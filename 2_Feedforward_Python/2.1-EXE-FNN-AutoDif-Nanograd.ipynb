{
 "cells": [
  {
   "cell_type": "markdown",
   "metadata": {
    "id": "HAva8TnYFtFu"
   },
   "source": [
    "# Contents and why we need this lab\n",
    "\n",
    "This lab is about implementing neural networks yourself before we start using other frameworks which hide some of the computation from you. It builds on the first lab where you derived the equations for neural network forward and backward propagation and gradient descent parameter updates. \n",
    "\n",
    "All the frameworks for deep learning you will meet from now on uses automatic differentiation (autodiff) so you don't have to code the backward step yourself. In this version of this lab you will develop your own autodif implementation. We also have a [version](https://github.com/DeepLearningDTU/02456-deep-learning-with-PyTorch/blob/master/2_Feedforward_NumPy/2.1-FNN-NumPy.ipynb) of this lab where you have to code the backward pass explicitly in Numpy."
   ]
  },
  {
   "cell_type": "markdown",
   "metadata": {
    "id": "sCa7HzwpFtFy"
   },
   "source": [
    "# External sources of information\n",
    "\n",
    "1. Jupyter notebook. You can find more information about Jupyter notebooks [here](https://jupyter.org/). It will come as part of the [Anaconda](https://www.anaconda.com/) Python installation. \n",
    "2. [NumPy](https://numpy.org/). Part of Anaconda distribution. If you already know how to program most things about Python and NumPy can be found through Google search.\n",
    "3. [Nanograd](https://github.com/rasmusbergpalm/nanograd) is a minimalistic version of autodiff developed by Rasmus Berg Palm that we use for our framework.\n"
   ]
  },
  {
   "cell_type": "markdown",
   "metadata": {
    "id": "1SjiIp-TFtF0"
   },
   "source": [
    "# This notebook will follow the next steps:\n",
    "\n",
    "1. Nanograd automatic differentiation framework\n",
    "2. Finite difference method\n",
    "3. Data generation\n",
    "4. Defining and initializing the network\n",
    "5. Forward pass\n",
    "6. Training loop \n",
    "7. Testing your model\n",
    "8. Further extensions"
   ]
  },
  {
   "cell_type": "markdown",
   "metadata": {
    "id": "OyXeAA-HuT7s"
   },
   "source": [
    "# Nanograd automatic differention framework"
   ]
  },
  {
   "cell_type": "markdown",
   "metadata": {
    "id": "k6UWKCLKubgA"
   },
   "source": [
    "The [Nanograd](https://github.com/rasmusbergpalm/nanograd) framework defines a class Var which both holds a value and gradient value that we can use to store the intermediate values when we apply the chain rule of differentiation."
   ]
  },
  {
   "cell_type": "code",
   "execution_count": 33,
   "metadata": {
    "id": "Jd4CoEBNzNWS"
   },
   "outputs": [],
   "source": [
    "# Copy and pasted from https://github.com/rasmusbergpalm/nanograd/blob/main/nanograd.py\n",
    "\n",
    "from math import exp, log\n",
    "\n",
    "class Var:\n",
    "    \"\"\"\n",
    "    A variable which holds a float and enables gradient computations.\n",
    "    \"\"\"\n",
    "\n",
    "    def __init__(self, val: float, grad_fn=lambda: []):\n",
    "        assert type(val) == float\n",
    "        self.v = val\n",
    "        self.grad_fn = grad_fn\n",
    "        self.grad = 0.0\n",
    "\n",
    "    def backprop(self, bp):\n",
    "        self.grad += bp\n",
    "        for input, grad in self.grad_fn():\n",
    "            input.backprop(grad * bp)\n",
    "\n",
    "    def backward(self):\n",
    "        self.backprop(1.0)\n",
    "\n",
    "    def __add__(self: 'Var', other: 'Var') -> 'Var':\n",
    "        return Var(self.v + other.v, lambda: [(self, 1.0), (other, 1.0)])\n",
    "\n",
    "    def __mul__(self: 'Var', other: 'Var') -> 'Var':\n",
    "        return Var(self.v * other.v, lambda: [(self, other.v), (other, self.v)])\n",
    "\n",
    "    def __pow__(self, power):\n",
    "        assert type(power) in {float, int}, \"power must be float or int\"\n",
    "        return Var(self.v ** power, lambda: [(self, power * self.v ** (power - 1))])\n",
    "\n",
    "    def __neg__(self: 'Var') -> 'Var':\n",
    "        return Var(-1.0) * self\n",
    "\n",
    "    def __sub__(self: 'Var', other: 'Var') -> 'Var':\n",
    "        return self + (-other)\n",
    "\n",
    "    def __truediv__(self: 'Var', other: 'Var') -> 'Var':\n",
    "        return self * other ** -1\n",
    "\n",
    "    def __repr__(self):\n",
    "        return \"Var(v=%.4f, grad=%.4f)\" % (self.v, self.grad)\n",
    "\n",
    "    def relu(self):\n",
    "        return Var(self.v if self.v > 0.0 else 0.0, lambda: [(self, 1.0 if self.v > 0.0 else 0.0)])\n",
    "\n",
    "    def identity(self):\n",
    "        return self\n",
    "    \n",
    "    def tanh(self):\n",
    "        func = (exp(self.v)-exp(-self.v))/(exp(self.v)+exp(-self.v))\n",
    "        return Var(func, lambda: [(self, 1.0 - func**2)])\n",
    "    \n",
    "    def sigmoid(self):\n",
    "        val = 1.0/(1.0 + exp(-self.v))\n",
    "        return Var(val, lambda: [(self, val*(1.0-val))])\n",
    "    \n",
    "    "
   ]
  },
  {
   "cell_type": "markdown",
   "metadata": {
    "id": "yDX67D6jzcte"
   },
   "source": [
    "A few examples illustrate how we can use this:"
   ]
  },
  {
   "cell_type": "code",
   "execution_count": 2,
   "metadata": {
    "colab": {
     "base_uri": "https://localhost:8080/"
    },
    "id": "xk6PeLc3zwPT",
    "outputId": "47e431b2-07ba-4cb1-ea21-997769641c67"
   },
   "outputs": [
    {
     "name": "stdout",
     "output_type": "stream",
     "text": [
      "Var(v=3.0000, grad=5.0000)\n",
      "Var(v=5.0000, grad=3.0000)\n",
      "Var(v=15.0000, grad=1.0000)\n"
     ]
    }
   ],
   "source": [
    "a = Var(3.0)\n",
    "b = Var(5.0)\n",
    "f = a * b\n",
    "\n",
    "f.backward()\n",
    "\n",
    "for v in [a, b, f]:\n",
    "    print(v)"
   ]
  },
  {
   "cell_type": "code",
   "execution_count": 3,
   "metadata": {
    "colab": {
     "base_uri": "https://localhost:8080/"
    },
    "id": "JmKhYgsY0g_o",
    "outputId": "06c1b1df-c33c-40d3-922a-624612a591c7"
   },
   "outputs": [
    {
     "name": "stdout",
     "output_type": "stream",
     "text": [
      "Var(v=3.0000, grad=14.0000)\n",
      "Var(v=5.0000, grad=3.0000)\n",
      "Var(v=15.0000, grad=1.0000)\n",
      "Var(v=9.0000, grad=3.0000)\n",
      "Var(v=27.0000, grad=1.0000)\n",
      "Var(v=42.0000, grad=1.0000)\n"
     ]
    }
   ],
   "source": [
    "a = Var(3.0)\n",
    "b = Var(5.0)\n",
    "c = a * b\n",
    "d = Var(9.0)\n",
    "e = a * d\n",
    "f = c + e\n",
    "\n",
    "f.backward()\n",
    "\n",
    "for v in [a, b, c, d, e, f]:\n",
    "    print(v)"
   ]
  },
  {
   "cell_type": "markdown",
   "metadata": {
    "id": "Fe3B6uEH140p"
   },
   "source": [
    "## Exercise a) What is being calculated?\n",
    "\n",
    "Explain briefly the output of the code? What is the expression we differentiate and with respect to what variables?"
   ]
  },
  {
   "cell_type": "markdown",
   "metadata": {},
   "source": [
    "**Solution**\n",
    "The output of the code is the derivative of the output variable $f$. For the output variable the backward method is called, with respect to each variable Var   \n",
    "\n",
    "In the first cell it calculates:\n",
    "\n",
    "$$\n",
    "\\frac{\\partial f}{\\partial a}\\Biggl|_{a}, \\frac{\\partial f}{\\partial b}\\Biggl|_{b} \\text{  and  } \\frac{\\partial f}{\\partial f}\\Biggl|_{f} = 1\n",
    "$$\n",
    "\n",
    "Each printed tupled is a combination of $(value_{var},\\frac{\\partial f}{\\partial var})$). For instance, in the first cell the first printed Var tuple is Var(v=3.0000, grad=5.0000) which is calculated by $(value_{a},\\frac{\\partial f}{\\partial a})$ = $(3.0, b)$ = $(3.0, 5.0)$."
   ]
  },
  {
   "cell_type": "markdown",
   "metadata": {
    "id": "q8_Q0t2I3Ruj"
   },
   "source": [
    "## Exercise b) How does the backward function work?\n",
    "\n",
    "You need to understand how the backward function calculates the gradients. We can use the two examples above to help with that.\n",
    "\n",
    "Go through the following four steps and answer the questions on the way:\n",
    "\n",
    "1. We represent the two expressions as graphs as shown below. Fill in the missing expressions for the different derivatives.\n",
    "\n",
    "2. In the remainder consider the first expression. Make a schematic of the data structure which is generated when we define the expression for f. \n",
    "\n",
    "3. Then execute the backward function by hand to convince yourself that it indeed calculates the gradients with respect to the variables. \n",
    "\n",
    "4. Write down the sequence of calls to backprop."
   ]
  },
  {
   "cell_type": "code",
   "execution_count": 4,
   "metadata": {
    "id": "idGr71jYXl26"
   },
   "outputs": [],
   "source": [
    "# import logging\n",
    "import graphviz\n",
    "\n",
    "#logging.basicConfig(format='[%(levelname)s@%(name)s] %(message)s', level=logging.DEBUG)\n",
    "\n",
    "#graphviz.__version__, graphviz.version()"
   ]
  },
  {
   "cell_type": "code",
   "execution_count": 5,
   "metadata": {
    "colab": {
     "base_uri": "https://localhost:8080/",
     "height": 152
    },
    "id": "KPe30Q2QXzeG",
    "outputId": "7fa002cd-a018-4dbb-ddf1-28ed5e99ee19"
   },
   "outputs": [
    {
     "data": {
      "image/svg+xml": "<?xml version=\"1.0\" encoding=\"UTF-8\" standalone=\"no\"?>\n<!DOCTYPE svg PUBLIC \"-//W3C//DTD SVG 1.1//EN\"\n \"http://www.w3.org/Graphics/SVG/1.1/DTD/svg11.dtd\">\n<!-- Generated by graphviz version 6.0.1 (20220911.1526)\n -->\n<!-- Title: first expression Pages: 1 -->\n<svg width=\"187pt\" height=\"98pt\"\n viewBox=\"0.00 0.00 186.69 98.00\" xmlns=\"http://www.w3.org/2000/svg\" xmlns:xlink=\"http://www.w3.org/1999/xlink\">\n<g id=\"graph0\" class=\"graph\" transform=\"scale(1 1) rotate(0) translate(4 94)\">\n<title>first expression</title>\n<polygon fill=\"white\" stroke=\"none\" points=\"-4,4 -4,-94 182.69,-94 182.69,4 -4,4\"/>\n<!-- a -->\n<g id=\"node1\" class=\"node\">\n<title>a</title>\n<ellipse fill=\"none\" stroke=\"black\" cx=\"18\" cy=\"-72\" rx=\"18\" ry=\"18\"/>\n<text text-anchor=\"middle\" x=\"18\" y=\"-68.3\" font-family=\"Times,serif\" font-size=\"14.00\">a</text>\n</g>\n<!-- f=a*b -->\n<g id=\"node2\" class=\"node\">\n<title>f=a*b</title>\n<ellipse fill=\"none\" stroke=\"black\" cx=\"146.85\" cy=\"-45\" rx=\"31.7\" ry=\"31.7\"/>\n<text text-anchor=\"middle\" x=\"146.85\" y=\"-41.3\" font-family=\"Times,serif\" font-size=\"14.00\">f=a*b</text>\n</g>\n<!-- a&#45;&gt;f=a*b -->\n<g id=\"edge1\" class=\"edge\">\n<title>a&#45;&gt;f=a*b</title>\n<path fill=\"none\" stroke=\"black\" d=\"M35.84,-68.41C53.46,-64.67 81.75,-58.64 105.23,-53.65\"/>\n<polygon fill=\"black\" stroke=\"black\" points=\"106.23,-57.01 115.29,-51.51 104.78,-50.16 106.23,-57.01\"/>\n<text text-anchor=\"middle\" x=\"75.5\" y=\"-67.8\" font-family=\"Times,serif\" font-size=\"14.00\">df/da=b</text>\n</g>\n<!-- b -->\n<g id=\"node3\" class=\"node\">\n<title>b</title>\n<ellipse fill=\"none\" stroke=\"black\" cx=\"18\" cy=\"-18\" rx=\"18\" ry=\"18\"/>\n<text text-anchor=\"middle\" x=\"18\" y=\"-14.3\" font-family=\"Times,serif\" font-size=\"14.00\">b</text>\n</g>\n<!-- b&#45;&gt;f=a*b -->\n<g id=\"edge2\" class=\"edge\">\n<title>b&#45;&gt;f=a*b</title>\n<path fill=\"none\" stroke=\"black\" d=\"M35.84,-21.59C53.46,-25.33 81.75,-31.36 105.23,-36.35\"/>\n<polygon fill=\"black\" stroke=\"black\" points=\"104.78,-39.84 115.29,-38.49 106.23,-32.99 104.78,-39.84\"/>\n<text text-anchor=\"middle\" x=\"75.5\" y=\"-36.8\" font-family=\"Times,serif\" font-size=\"14.00\">df/db=a</text>\n</g>\n</g>\n</svg>\n",
      "text/plain": [
       "<graphviz.graphs.Digraph at 0x10ac9a3a0>"
      ]
     },
     "execution_count": 5,
     "metadata": {},
     "output_type": "execute_result"
    }
   ],
   "source": [
    "e1 = graphviz.Digraph('first expression', filename='fsm.gv')\n",
    "\n",
    "e1.attr(rankdir='LR', size='8,5')\n",
    "\n",
    "e1.attr('node', shape='circle')\n",
    "e1.edge('a', 'f=a*b', label='df/da=b')\n",
    "e1.edge('b', 'f=a*b', label='df/db=a')\n",
    "\n",
    "e1"
   ]
  },
  {
   "cell_type": "code",
   "execution_count": 6,
   "metadata": {
    "colab": {
     "base_uri": "https://localhost:8080/",
     "height": 232
    },
    "id": "0nittR-mZFeX",
    "outputId": "fa3656a3-732c-4abe-8084-98a492b0d6be"
   },
   "outputs": [
    {
     "data": {
      "image/svg+xml": "<?xml version=\"1.0\" encoding=\"UTF-8\" standalone=\"no\"?>\n<!DOCTYPE svg PUBLIC \"-//W3C//DTD SVG 1.1//EN\"\n \"http://www.w3.org/Graphics/SVG/1.1/DTD/svg11.dtd\">\n<!-- Generated by graphviz version 6.0.1 (20220911.1526)\n -->\n<!-- Title: second expression Pages: 1 -->\n<svg width=\"334pt\" height=\"158pt\"\n viewBox=\"0.00 0.00 333.99 158.00\" xmlns=\"http://www.w3.org/2000/svg\" xmlns:xlink=\"http://www.w3.org/1999/xlink\">\n<g id=\"graph0\" class=\"graph\" transform=\"scale(1 1) rotate(0) translate(4 154)\">\n<title>second expression</title>\n<polygon fill=\"white\" stroke=\"none\" points=\"-4,4 -4,-154 329.99,-154 329.99,4 -4,4\"/>\n<!-- a -->\n<g id=\"node1\" class=\"node\">\n<title>a</title>\n<ellipse fill=\"none\" stroke=\"black\" cx=\"18\" cy=\"-75\" rx=\"18\" ry=\"18\"/>\n<text text-anchor=\"middle\" x=\"18\" y=\"-71.3\" font-family=\"Times,serif\" font-size=\"14.00\">a</text>\n</g>\n<!-- c=a*b -->\n<g id=\"node2\" class=\"node\">\n<title>c=a*b</title>\n<ellipse fill=\"none\" stroke=\"black\" cx=\"149.5\" cy=\"-116\" rx=\"32.49\" ry=\"32.49\"/>\n<text text-anchor=\"middle\" x=\"149.5\" y=\"-112.3\" font-family=\"Times,serif\" font-size=\"14.00\">c=a*b</text>\n</g>\n<!-- a&#45;&gt;c=a*b -->\n<g id=\"edge1\" class=\"edge\">\n<title>a&#45;&gt;c=a*b</title>\n<path fill=\"none\" stroke=\"black\" d=\"M35.4,-80.19C53.7,-85.99 83.99,-95.57 108.61,-103.37\"/>\n<polygon fill=\"black\" stroke=\"black\" points=\"107.83,-106.8 118.42,-106.48 109.94,-100.12 107.83,-106.8\"/>\n<text text-anchor=\"middle\" x=\"76.5\" y=\"-103.8\" font-family=\"Times,serif\" font-size=\"14.00\">dc/da=b</text>\n</g>\n<!-- e=a*d -->\n<g id=\"node4\" class=\"node\">\n<title>e=a*d</title>\n<ellipse fill=\"none\" stroke=\"black\" cx=\"149.5\" cy=\"-33\" rx=\"32.49\" ry=\"32.49\"/>\n<text text-anchor=\"middle\" x=\"149.5\" y=\"-29.3\" font-family=\"Times,serif\" font-size=\"14.00\">e=a*d</text>\n</g>\n<!-- a&#45;&gt;e=a*d -->\n<g id=\"edge3\" class=\"edge\">\n<title>a&#45;&gt;e=a*d</title>\n<path fill=\"none\" stroke=\"black\" d=\"M35.4,-69.68C53.7,-63.74 83.99,-53.92 108.61,-45.94\"/>\n<polygon fill=\"black\" stroke=\"black\" points=\"109.99,-49.17 118.42,-42.76 107.83,-42.51 109.99,-49.17\"/>\n<text text-anchor=\"middle\" x=\"76.5\" y=\"-66.8\" font-family=\"Times,serif\" font-size=\"14.00\">de/da=d</text>\n</g>\n<!-- f=c+e -->\n<g id=\"node6\" class=\"node\">\n<title>f=c+e</title>\n<ellipse fill=\"none\" stroke=\"black\" cx=\"293.49\" cy=\"-74\" rx=\"32.49\" ry=\"32.49\"/>\n<text text-anchor=\"middle\" x=\"293.49\" y=\"-70.3\" font-family=\"Times,serif\" font-size=\"14.00\">f=c+e</text>\n</g>\n<!-- c=a*b&#45;&gt;f=c+e -->\n<g id=\"edge5\" class=\"edge\">\n<title>c=a*b&#45;&gt;f=c+e</title>\n<path fill=\"none\" stroke=\"black\" d=\"M180.96,-106.99C201.83,-100.82 229.73,-92.57 252.4,-85.86\"/>\n<polygon fill=\"black\" stroke=\"black\" points=\"253.48,-89.19 262.08,-83 251.5,-82.48 253.48,-89.19\"/>\n<text text-anchor=\"middle\" x=\"221.49\" y=\"-105.8\" font-family=\"Times,serif\" font-size=\"14.00\">df/dc=1</text>\n</g>\n<!-- b -->\n<g id=\"node3\" class=\"node\">\n<title>b</title>\n<ellipse fill=\"none\" stroke=\"black\" cx=\"18\" cy=\"-132\" rx=\"18\" ry=\"18\"/>\n<text text-anchor=\"middle\" x=\"18\" y=\"-128.3\" font-family=\"Times,serif\" font-size=\"14.00\">b</text>\n</g>\n<!-- b&#45;&gt;c=a*b -->\n<g id=\"edge2\" class=\"edge\">\n<title>b&#45;&gt;c=a*b</title>\n<path fill=\"none\" stroke=\"black\" d=\"M35.93,-129.91C53.93,-127.68 83.06,-124.09 107.18,-121.11\"/>\n<polygon fill=\"black\" stroke=\"black\" points=\"107.66,-124.57 117.16,-119.87 106.81,-117.62 107.66,-124.57\"/>\n<text text-anchor=\"middle\" x=\"76.5\" y=\"-130.8\" font-family=\"Times,serif\" font-size=\"14.00\">dc/db=a</text>\n</g>\n<!-- e=a*d&#45;&gt;f=c+e -->\n<g id=\"edge6\" class=\"edge\">\n<title>e=a*d&#45;&gt;f=c+e</title>\n<path fill=\"none\" stroke=\"black\" d=\"M180.96,-41.8C201.83,-47.82 229.73,-55.88 252.4,-62.42\"/>\n<polygon fill=\"black\" stroke=\"black\" points=\"251.5,-65.81 262.08,-65.22 253.44,-59.08 251.5,-65.81\"/>\n<text text-anchor=\"middle\" x=\"221.49\" y=\"-63.8\" font-family=\"Times,serif\" font-size=\"14.00\">df/de=1</text>\n</g>\n<!-- d -->\n<g id=\"node5\" class=\"node\">\n<title>d</title>\n<ellipse fill=\"none\" stroke=\"black\" cx=\"18\" cy=\"-18\" rx=\"18\" ry=\"18\"/>\n<text text-anchor=\"middle\" x=\"18\" y=\"-14.3\" font-family=\"Times,serif\" font-size=\"14.00\">d</text>\n</g>\n<!-- d&#45;&gt;e=a*d -->\n<g id=\"edge4\" class=\"edge\">\n<title>d&#45;&gt;e=a*d</title>\n<path fill=\"none\" stroke=\"black\" d=\"M36.27,-16.91C52.54,-16.2 77.56,-15.89 99,-19 102.08,-19.45 105.24,-20.03 108.4,-20.71\"/>\n<polygon fill=\"black\" stroke=\"black\" points=\"107.86,-24.18 118.41,-23.13 109.51,-17.38 107.86,-24.18\"/>\n<text text-anchor=\"middle\" x=\"76.5\" y=\"-22.8\" font-family=\"Times,serif\" font-size=\"14.00\">de/dd=a</text>\n</g>\n</g>\n</svg>\n",
      "text/plain": [
       "<graphviz.graphs.Digraph at 0x10ac8f700>"
      ]
     },
     "execution_count": 6,
     "metadata": {},
     "output_type": "execute_result"
    }
   ],
   "source": [
    "e2 = graphviz.Digraph('second expression', filename='fsm.gv')\n",
    "\n",
    "e2.attr(rankdir='LR', size='8,5')\n",
    "\n",
    "e2.attr('node', shape='circle')\n",
    "e2.edge('a', 'c=a*b', label='dc/da=b')\n",
    "e2.edge('b', 'c=a*b', label='dc/db=a')\n",
    "e2.edge('a', 'e=a*d', label='de/da=d')\n",
    "e2.edge('d', 'e=a*d', label='de/dd=a')\n",
    "e2.edge('c=a*b', 'f=c+e', label='df/dc=1')\n",
    "e2.edge('e=a*d', 'f=c+e', label='df/de=1')\n",
    "\n",
    "e2"
   ]
  },
  {
   "cell_type": "markdown",
   "metadata": {},
   "source": [
    "**Sequence**\n",
    "\n",
    "\n",
    "- f.backprop(1)\n",
    "- a.backprop(5.0*1)\n",
    "- b.backprop(3.0*1)"
   ]
  },
  {
   "cell_type": "markdown",
   "metadata": {
    "id": "A5oi21W4gpeM"
   },
   "source": [
    "## Exercise c) What happens if we run backward again?\n",
    "\n",
    "Try to execute the code below. Explain what happens."
   ]
  },
  {
   "cell_type": "code",
   "execution_count": 7,
   "metadata": {
    "colab": {
     "base_uri": "https://localhost:8080/"
    },
    "id": "DCtpJyr-gyX1",
    "outputId": "d014bcfa-c9ae-49c3-d268-91cc6ca94ea5"
   },
   "outputs": [
    {
     "name": "stdout",
     "output_type": "stream",
     "text": [
      "Var(v=3.0000, grad=28.0000)\n",
      "Var(v=5.0000, grad=6.0000)\n",
      "Var(v=15.0000, grad=2.0000)\n",
      "Var(v=9.0000, grad=6.0000)\n",
      "Var(v=27.0000, grad=2.0000)\n",
      "Var(v=42.0000, grad=2.0000)\n"
     ]
    }
   ],
   "source": [
    "f.backward()\n",
    "\n",
    "for v in [a, b, c, d, e, f]:\n",
    "    print(v)"
   ]
  },
  {
   "cell_type": "markdown",
   "metadata": {},
   "source": [
    "**Solution**\n",
    "\n",
    "If we run the code again the backward is executed again. The gradient value is multiplies by the times the backward algorithm is run.\n",
    "\n",
    "For instance, \n",
    "\n",
    "$Var(v=15.0000, grad=1.0000)$ becomes $Var(v=15.0000, grad=2.0000)$."
   ]
  },
  {
   "cell_type": "markdown",
   "metadata": {
    "id": "e8bPVq2VhsP-"
   },
   "source": [
    "## Exercise d) Zero gradient\n",
    "\n",
    "We can zero the gradient by backpropagating a -1.0 as is shown in the example below. (If you have run backward multiple time then you also have to run the cell below an equal amount of times.) Explain what is going on."
   ]
  },
  {
   "cell_type": "code",
   "execution_count": 8,
   "metadata": {
    "colab": {
     "base_uri": "https://localhost:8080/"
    },
    "id": "OnyPDQx9lJe0",
    "outputId": "7a125fdc-60c4-4340-a580-8b82aea5b0db"
   },
   "outputs": [
    {
     "name": "stdout",
     "output_type": "stream",
     "text": [
      "Var(v=2.0000, grad=0.0000)\n",
      "Var(v=5.0000, grad=6.0000)\n",
      "Var(v=15.0000, grad=2.0000)\n",
      "Var(v=9.0000, grad=6.0000)\n",
      "Var(v=27.0000, grad=2.0000)\n",
      "Var(v=42.0000, grad=2.0000)\n",
      "Var(v=2.0000, grad=0.0000)\n",
      "Var(v=5.0000, grad=3.0000)\n",
      "Var(v=15.0000, grad=1.0000)\n",
      "Var(v=9.0000, grad=3.0000)\n",
      "Var(v=27.0000, grad=1.0000)\n",
      "Var(v=42.0000, grad=1.0000)\n"
     ]
    }
   ],
   "source": [
    "a = Var(2.0)\n",
    "\n",
    "for v in [a, b, c, d, e, f]:\n",
    "    print(v)\n",
    "\n",
    "f.backprop(-1.0)\n",
    "\n",
    "for v in [a, b, c, d, e, f]:\n",
    "    print(v)"
   ]
  },
  {
   "cell_type": "markdown",
   "metadata": {},
   "source": [
    "**Solution**\n",
    "\n",
    "Executing backward pass with -1.0 we revert the last step. This can be indicated from the results that are printed. The gradients have been become half, which is the oposite than running the backward algorithm multiple times as mentioned in the previous exercise. The Var \"a\" is not changing because we are initializing it again and is was not part in the calculation of the gradients that took place before."
   ]
  },
  {
   "cell_type": "markdown",
   "metadata": {
    "id": "U4057_ljNvWB"
   },
   "source": [
    "## Exercise e) Test correctness of derivatives with the finite difference method\n",
    "\n",
    "Write a small function that uses [the finite difference method](https://en.wikipedia.org/wiki/Finite_difference_method) to numerically test that backpropation implementation is working. In short we will use\n",
    "$$\n",
    "\\frac{\\partial f(a)}{\\partial a} \\approx \\frac{f(a+da)-f(a)}{da}\n",
    "$$\n",
    "for $da \\ll 1$.\n",
    "\n",
    "As an example, we could approximate the derivative of the function $f(a)=a^2$ in e.g. the value $a=4$ using the finite difference method. This amounts to inserting the relevant values and approximating the gradient $f'(4)$ with the fraction above. \n"
   ]
  },
  {
   "cell_type": "code",
   "execution_count": 9,
   "metadata": {
    "colab": {
     "base_uri": "https://localhost:8080/"
    },
    "id": "9TGil92lSXDN",
    "outputId": "7ef5489b-b525-4132-ab08-0b1109c07f4d"
   },
   "outputs": [
    {
     "name": "stdout",
     "output_type": "stream",
     "text": [
      "Var(v=3.0000, grad=3.0000)\n",
      "Var(v=3.0000, grad=3.0000)\n",
      "Var(v=9.0000, grad=1.0000)\n",
      "6.000000496442226\n"
     ]
    }
   ],
   "source": [
    "# f function - try to change the code to test other types of functions as well (such as different polynomials etc.)\n",
    "def f_function(val):\n",
    "  a = Var(val)\n",
    "  b = Var(val)\n",
    "  f = a * b\n",
    "  f.backward()\n",
    "  return a,b,f\n",
    "\n",
    "for v in f_function(3.0):\n",
    "  print(v)\n",
    "\n",
    "# Insert your finite difference code here\n",
    "def finite_difference(val, da=1e-10):\n",
    "    \"\"\"\n",
    "    This function compute the finite difference between\n",
    "    \n",
    "    Input:\n",
    "    da:          The finite difference                           (float)\n",
    "    \n",
    "    Output:\n",
    "    finite_difference: numerical approximation to the derivative (float) \n",
    "    \"\"\"\n",
    "    \n",
    "    fa_da = (val + da)**2         # <- Insert correct expression\n",
    "    fa = val**2             # <- Insert correct expression\n",
    "\n",
    "    finite_difference = (fa_da - fa) / da\n",
    "    \n",
    "    return finite_difference\n",
    "\n",
    "print(finite_difference(3.0))"
   ]
  },
  {
   "cell_type": "markdown",
   "metadata": {
    "id": "6pZar5RKaUkg"
   },
   "source": [
    "# Create an artificial dataset to play with\n",
    "\n",
    "We create a non-linear 1d regression task. The generator supports various noise levels and it creates train, validation and test sets. You can modify it yourself if you want more or less challenging tasks."
   ]
  },
  {
   "cell_type": "code",
   "execution_count": 10,
   "metadata": {
    "id": "Y6yfMAQ8aduj"
   },
   "outputs": [],
   "source": [
    "import numpy as np\n",
    "import matplotlib.pyplot as plt\n",
    "\n",
    "np.random.seed(42)"
   ]
  },
  {
   "cell_type": "code",
   "execution_count": 34,
   "metadata": {
    "id": "4YabfD43ajNh"
   },
   "outputs": [],
   "source": [
    "def data_generator(noise=0.1, n_samples=300, D1=True):\n",
    "    # Create covariates and response variable\n",
    "    if D1:\n",
    "        X = np.linspace(-3, 3, num=n_samples).reshape(-1,1) # 1-D\n",
    "        np.random.shuffle(X)\n",
    "        y = np.random.normal((0.5*np.sin(X[:,0]*3) + X[:,0]), noise) # 1-D with trend\n",
    "    else:\n",
    "        X = np.random.multivariate_normal(np.zeros(3), noise*np.eye(3), size = n_samples) # 3-D\n",
    "        np.random.shuffle(X)    \n",
    "        y = np.sin(X[:,0]) - 5*(X[:,1]**2) + 0.5*X[:,2] # 3-D\n",
    "\n",
    "    # Stack them together vertically to split data set\n",
    "    data_set = np.vstack((X.T,y)).T\n",
    "    \n",
    "    train, validation, test = np.split(data_set, [int(0.35*n_samples), int(0.7*n_samples)], axis=0)\n",
    "    \n",
    "    # Standardization of the data, remember we do the standardization with the training set mean and standard deviation\n",
    "    train_mu = np.mean(train, axis=0)\n",
    "    train_sigma = np.std(train, axis=0)\n",
    "    \n",
    "    train = (train-train_mu)/train_sigma\n",
    "    validation = (validation-train_mu)/train_sigma\n",
    "    test = (test-train_mu)/train_sigma\n",
    "    \n",
    "    x_train, x_validation, x_test = train[:,:-1], validation[:,:-1], test[:,:-1]\n",
    "    y_train, y_validation, y_test = train[:,-1], validation[:,-1], test[:,-1]\n",
    "\n",
    "    return x_train, y_train,  x_validation, y_validation, x_test, y_test"
   ]
  },
  {
   "cell_type": "code",
   "execution_count": 35,
   "metadata": {
    "id": "u1oDngHLapIz"
   },
   "outputs": [],
   "source": [
    "D1 = True\n",
    "x_train, y_train,  x_validation, y_validation, x_test, y_test = data_generator(noise=0.5, D1=D1)"
   ]
  },
  {
   "cell_type": "code",
   "execution_count": 36,
   "metadata": {
    "colab": {
     "base_uri": "https://localhost:8080/",
     "height": 265
    },
    "id": "Ysfa3FsBavlm",
    "outputId": "399e5382-ae7d-48f6-9774-7ea4c73e7d95"
   },
   "outputs": [
    {
     "data": {
      "image/png": "[encoded data removed]",
      "text/plain": [
       "<Figure size 432x288 with 1 Axes>"
      ]
     },
     "metadata": {
      "needs_background": "light"
     },
     "output_type": "display_data"
    }
   ],
   "source": [
    "if D1:\n",
    "    plt.scatter(x_train[:,0], y_train);\n",
    "    plt.scatter(x_validation[:,0], y_validation);\n",
    "    plt.scatter(x_test[:,0], y_test);\n",
    "else:\n",
    "    plt.scatter(x_train[:,1], y_train);\n",
    "    plt.scatter(x_validation[:,1], y_validation);\n",
    "    plt.scatter(x_test[:,1], y_test);\n",
    "plt.show()"
   ]
  },
  {
   "cell_type": "code",
   "execution_count": 37,
   "metadata": {
    "id": "zac2HHNlgbpm"
   },
   "outputs": [],
   "source": [
    "# convert from nparray to Var\n",
    "def nparray_to_Var(x):\n",
    "  if x.ndim==1:\n",
    "    y = [[Var(float(x[i]))] for i in range(x.shape[0])] # always work with list of list\n",
    "  else:\n",
    "    y = [[Var(float(x[i,j])) for j in range(x.shape[1])] for i in range(x.shape[0])]\n",
    "  return y\n",
    "   \n",
    "x_train = nparray_to_Var(x_train)\n",
    "y_train = nparray_to_Var(y_train)\n",
    "x_validation = nparray_to_Var(x_validation)\n",
    "y_validation = nparray_to_Var(y_validation)\n",
    "x_test = nparray_to_Var(x_test)\n",
    "y_test = nparray_to_Var(y_test)\n"
   ]
  },
  {
   "cell_type": "markdown",
   "metadata": {
    "id": "VbjrqcpVFtGe"
   },
   "source": [
    "# Defining and initializing the network\n",
    "\n",
    "The steps to create a feed forward neural network are the following:\n",
    "\n",
    "1. **Number of hidden layer and hidden units**. We have to define the number of hidden units in each layer. The number of features in X and the output dimensionality (the size of Y) are given but the numbers in between are set by the researcher. Remember that for each unit in each layer beside in the input has a bias term.\n",
    "2. **Activation functions** for each hidden layer. Each hidden layer in your list must have an activation function (it can also be the linear activation which is equivalent to identity function). The power of neural networks comes from non-linear activation functions that learn representations (features) from the data allowing us to learn from it. \n",
    "3. **Parameter initialization**. We will initialize the weights to have random values. This is done in practice by drawing pseudo random numbers from a Gaussian or uniform distribution. It turns out that for deeper models we have to be careful about how we scale the random numbers. This will be the topic of the exercise below. For now we will just use unit variance Gaussians.  \n",
    "\n",
    "In order to make life easier for ourselves we define a DenseLayer class that takes care of initialization and the forward pass. We can also extend it later with print and advanced initialization capabilities. For the latter we have introduced a Initializer class.\n",
    "\n",
    "Note that we use Sequence in the code below. A Sequence is an ordered list. This means the order we insert and access items are the same."
   ]
  },
  {
   "cell_type": "code",
   "execution_count": 38,
   "metadata": {
    "id": "ij_ieRsAt7Xt"
   },
   "outputs": [],
   "source": [
    "class Initializer:\n",
    "\n",
    "  def init_weights(self, n_in, n_out):\n",
    "    raise NotImplementedError\n",
    "\n",
    "  def init_bias(self, n_out):\n",
    "    raise NotImplementedError"
   ]
  },
  {
   "cell_type": "code",
   "execution_count": 39,
   "metadata": {
    "id": "eb18N5phuIha"
   },
   "outputs": [],
   "source": [
    "import random\n",
    "\n",
    "class NormalInitializer(Initializer):\n",
    "\n",
    "  def __init__(self, mean=0, std=0.1):\n",
    "    self.mean = mean\n",
    "    self.std = std\n",
    "\n",
    "  def init_weights(self, n_in, n_out):\n",
    "    return [[Var(random.gauss(self.mean, self.std)) for _ in range(n_out)] for _ in range(n_in)]\n",
    "\n",
    "  def init_bias(self, n_out):\n",
    "    return [Var(0.0) for _ in range(n_out)]\n",
    "\n",
    "class ConstantInitializer(Initializer):\n",
    "\n",
    "  def __init__(self, weight=1.0, bias=0.0):\n",
    "    self.weight = weight\n",
    "    self.bias = bias\n",
    "\n",
    "  def init_weights(self, n_in, n_out):\n",
    "    return [[Var(self.weight) for _ in range(n_out)] for _ in range(n_in)]\n",
    "\n",
    "  def init_bias(self, n_out):\n",
    "    return [Var(self.bias) for _ in range(n_out)]"
   ]
  },
  {
   "cell_type": "code",
   "execution_count": 40,
   "metadata": {
    "id": "jOLYGnZKuM6W"
   },
   "outputs": [],
   "source": [
    "from typing import Sequence\n",
    "\n",
    "class DenseLayer:\n",
    "    def __init__(self, n_in: int, n_out: int, act_fn, initializer = NormalInitializer()):\n",
    "        self.weights = initializer.init_weights(n_in, n_out)\n",
    "        self.bias = initializer.init_bias(n_out)\n",
    "        self.act_fn = act_fn\n",
    "    \n",
    "    def __repr__(self):    \n",
    "        return 'Weights: ' + repr(self.weights) + ' Biases: ' + repr(self.bias)\n",
    "\n",
    "    def parameters(self) -> Sequence[Var]:\n",
    "      params = []\n",
    "      for r in self.weights:\n",
    "        params += r\n",
    "\n",
    "      return params + self.bias\n",
    "\n",
    "    def forward(self, single_input: Sequence[Var]) -> Sequence[Var]:\n",
    "        # self.weights is a matrix with dimension n_in x n_out. We check that the dimensionality of the input \n",
    "        # to the current layer matches the number of nodes in the current layer\n",
    "        assert len(self.weights) == len(single_input), \"weights and single_input must match in first dimension\"\n",
    "        weights = self.weights\n",
    "        out = []\n",
    "        # For some given data point single_input, we now want to calculate the resulting value in each node in the current layer\n",
    "        # We therefore loop over the (number of) nodes in the current layer:\n",
    "        for j in range(len(weights[0])): \n",
    "            # Initialize the node value depending on its corresponding parameters.\n",
    "            node = self.bias[j] # <- Insert code\n",
    "            # We now finish the linear transformation corresponding to the parameters of the currently considered node.\n",
    "            for i in range(len(single_input)):\n",
    "                node += single_input[0]*weights[0][j]  # <- Insert code\n",
    "            node = self.act_fn(node)\n",
    "            out.append(node)\n",
    "\n",
    "        return out\n",
    "    \n",
    "    def param_layer(self):\n",
    "        print('-- Bias: ', end=\"\")\n",
    "        print([ b.v for b in self.bias])\n",
    "        print(f'-- Weights: ', end=\"\")\n",
    "        print([w.v for w in self.weights[0]])"
   ]
  },
  {
   "cell_type": "markdown",
   "metadata": {
    "id": "jpIZPBpNI0pO"
   },
   "source": [
    "## Exercise f) Add more activation functions\n",
    "\n",
    "To have a full definition of the neural network, we must define an activation function for every layer. Several activation functions have been proposed and have different characteristics. In the Var class we have already defined the rectified linear init (relu). \n",
    " \n",
    "Implement the following activation functions in the Var class:\n",
    "\n",
    "* Identity: $$\\mathrm{identity}(x) = x$$\n",
    "* Hyperbolic tangent: $$\\tanh(x)$$\n",
    "* Sigmoid (or logistic function): $$\\mathrm{sigmoid}(x) = \\frac{1}{1.0 + \\exp(-x ) }$$  Hint: $\\mathrm{sigmoid}'(x)= \\mathrm{sigmoid}(x)(1-\\mathrm{sigmoid}(x))$.  \n",
    "\n",
    "Hint: You can seek inspiration in the relu method in the Var class."
   ]
  },
  {
   "cell_type": "markdown",
   "metadata": {
    "id": "p_8n_SKnIW2F"
   },
   "source": [
    "## Exercise g) Complete the forward pass\n",
    "\n",
    "In the code below we initialize a 1-5-1 network and pass the training set through it. *The forward method in DenseLayer is **not** complete*. It just outputs zeros right now. The method forward should perform an [affine transformation](https://en.wikipedia.org/wiki/Affine_transformation) on the input followed by an application of the activation function."
   ]
  },
  {
   "cell_type": "code",
   "execution_count": 41,
   "metadata": {
    "colab": {
     "base_uri": "https://localhost:8080/",
     "height": 337
    },
    "id": "xDEjtePxE7Mv",
    "outputId": "753406cd-d8a1-4282-ce03-25ad959b0e11"
   },
   "outputs": [
    {
     "name": "stdout",
     "output_type": "stream",
     "text": [
      "[[Var(v=0.0000, grad=0.0000)], [Var(v=0.0339, grad=0.0000)], [Var(v=0.0202, grad=0.0000)], [Var(v=0.0280, grad=0.0000)], [Var(v=0.0129, grad=0.0000)], [Var(v=0.0220, grad=0.0000)], [Var(v=0.0000, grad=0.0000)], [Var(v=0.0000, grad=0.0000)], [Var(v=0.0000, grad=0.0000)], [Var(v=0.0677, grad=0.0000)], [Var(v=0.0000, grad=0.0000)], [Var(v=0.0000, grad=0.0000)], [Var(v=0.0184, grad=0.0000)], [Var(v=0.0458, grad=0.0000)], [Var(v=0.0000, grad=0.0000)], [Var(v=0.0000, grad=0.0000)], [Var(v=0.0000, grad=0.0000)], [Var(v=0.0696, grad=0.0000)], [Var(v=0.0033, grad=0.0000)], [Var(v=0.0083, grad=0.0000)], [Var(v=0.0408, grad=0.0000)], [Var(v=0.0042, grad=0.0000)], [Var(v=0.0604, grad=0.0000)], [Var(v=0.0000, grad=0.0000)], [Var(v=0.0353, grad=0.0000)], [Var(v=0.0000, grad=0.0000)], [Var(v=0.0056, grad=0.0000)], [Var(v=0.0161, grad=0.0000)], [Var(v=0.0198, grad=0.0000)], [Var(v=0.0316, grad=0.0000)], [Var(v=0.0271, grad=0.0000)], [Var(v=0.0000, grad=0.0000)], [Var(v=0.0000, grad=0.0000)], [Var(v=0.0000, grad=0.0000)], [Var(v=0.0000, grad=0.0000)], [Var(v=0.0000, grad=0.0000)], [Var(v=0.0000, grad=0.0000)], [Var(v=0.0645, grad=0.0000)], [Var(v=0.0051, grad=0.0000)], [Var(v=0.0691, grad=0.0000)], [Var(v=0.0540, grad=0.0000)], [Var(v=0.0499, grad=0.0000)], [Var(v=0.0216, grad=0.0000)], [Var(v=0.0000, grad=0.0000)], [Var(v=0.0000, grad=0.0000)], [Var(v=0.0000, grad=0.0000)], [Var(v=0.0568, grad=0.0000)], [Var(v=0.0000, grad=0.0000)], [Var(v=0.0298, grad=0.0000)], [Var(v=0.0088, grad=0.0000)], [Var(v=0.0000, grad=0.0000)], [Var(v=0.0000, grad=0.0000)], [Var(v=0.0431, grad=0.0000)], [Var(v=0.0463, grad=0.0000)], [Var(v=0.0243, grad=0.0000)], [Var(v=0.0284, grad=0.0000)], [Var(v=0.0000, grad=0.0000)], [Var(v=0.0000, grad=0.0000)], [Var(v=0.0000, grad=0.0000)], [Var(v=0.0000, grad=0.0000)], [Var(v=0.0189, grad=0.0000)], [Var(v=0.0000, grad=0.0000)], [Var(v=0.0000, grad=0.0000)], [Var(v=0.0000, grad=0.0000)], [Var(v=0.0193, grad=0.0000)], [Var(v=0.0000, grad=0.0000)], [Var(v=0.0303, grad=0.0000)], [Var(v=0.0627, grad=0.0000)], [Var(v=0.0000, grad=0.0000)], [Var(v=0.0000, grad=0.0000)], [Var(v=0.0275, grad=0.0000)], [Var(v=0.0024, grad=0.0000)], [Var(v=0.0000, grad=0.0000)], [Var(v=0.0000, grad=0.0000)], [Var(v=0.0000, grad=0.0000)], [Var(v=0.0166, grad=0.0000)], [Var(v=0.0348, grad=0.0000)], [Var(v=0.0001, grad=0.0000)], [Var(v=0.0481, grad=0.0000)], [Var(v=0.0000, grad=0.0000)], [Var(v=0.0000, grad=0.0000)], [Var(v=0.0074, grad=0.0000)], [Var(v=0.0485, grad=0.0000)], [Var(v=0.0157, grad=0.0000)], [Var(v=0.0321, grad=0.0000)], [Var(v=0.0000, grad=0.0000)], [Var(v=0.0394, grad=0.0000)], [Var(v=0.0006, grad=0.0000)], [Var(v=0.0000, grad=0.0000)], [Var(v=0.0362, grad=0.0000)], [Var(v=0.0000, grad=0.0000)], [Var(v=0.0000, grad=0.0000)], [Var(v=0.0120, grad=0.0000)], [Var(v=0.0000, grad=0.0000)], [Var(v=0.0175, grad=0.0000)], [Var(v=0.0000, grad=0.0000)], [Var(v=0.0225, grad=0.0000)], [Var(v=0.0000, grad=0.0000)], [Var(v=0.0038, grad=0.0000)], [Var(v=0.0000, grad=0.0000)], [Var(v=0.0000, grad=0.0000)], [Var(v=0.0000, grad=0.0000)], [Var(v=0.0000, grad=0.0000)], [Var(v=0.0289, grad=0.0000)], [Var(v=0.0467, grad=0.0000)]]\n"
     ]
    }
   ],
   "source": [
    "NN = [\n",
    "    DenseLayer(1, 5, lambda x: x.relu()),\n",
    "    DenseLayer(5, 1, lambda x: x.identity())\n",
    "]\n",
    "\n",
    "def forward(input, network):\n",
    "\n",
    "  def forward_single(x, network):\n",
    "    for layer in network:\n",
    "        x = layer.forward(x)\n",
    "    return x\n",
    "\n",
    "  output = [ forward_single(input[n], network) for n in range(len(input))]\n",
    "  return output\n",
    "\n",
    "print(forward(x_train, NN))\n"
   ]
  },
  {
   "cell_type": "markdown",
   "metadata": {
    "id": "oLrGJytZFtGm"
   },
   "source": [
    "## Exercise h) Print all network parameters\n",
    "\n",
    "Make a function that prints all the parameters of the network (weights and biases) with information about in which layer the appear. In the object oriented spirit you should introduce a method in the DenseLayer class to print the parameters of a layer. Hint: You can take inspiration from the corresponding method in Var. "
   ]
  },
  {
   "cell_type": "code",
   "execution_count": 42,
   "metadata": {
    "id": "iac-VwYGFtGm"
   },
   "outputs": [
    {
     "name": "stdout",
     "output_type": "stream",
     "text": [
      "0 Layer has parameteres:\n",
      "-- Bias: [0.0, 0.0, 0.0, 0.0, 0.0]\n",
      "-- Weights: [0.055308420146898345, -0.04631230463140983, -0.14011179541386684, 0.012968239391598343, 0.16320556852662071]\n",
      "None\n",
      "=================\n",
      "1 Layer has parameteres:\n",
      "-- Bias: [0.0]\n",
      "-- Weights: [0.13209436353581427]\n",
      "None\n",
      "=================\n"
     ]
    }
   ],
   "source": [
    "# Insert code here and in the DenseLayer class\n",
    "for i,la in enumerate(NN):\n",
    "    print(f'{i} Layer has parameteres:')\n",
    "    print(la.param_layer())\n",
    "    print(\"=================\")"
   ]
  },
  {
   "cell_type": "markdown",
   "metadata": {
    "id": "_79HOAXrFtHK"
   },
   "source": [
    "## Visualization\n",
    "\n",
    "Now that we have defined our activation functions we can visualize them to see what they look like:"
   ]
  },
  {
   "cell_type": "code",
   "execution_count": 43,
   "metadata": {
    "id": "1FcylHqLTl-Z"
   },
   "outputs": [
    {
     "data": {
      "text/plain": [
       "[<matplotlib.lines.Line2D at 0x11cb1ccd0>]"
      ]
     },
     "execution_count": 43,
     "metadata": {},
     "output_type": "execute_result"
    },
    {
     "data": {
      "image/png": "[encoded data removed]",
      "text/plain": [
       "<Figure size 432x288 with 1 Axes>"
      ]
     },
     "metadata": {
      "needs_background": "light"
     },
     "output_type": "display_data"
    }
   ],
   "source": [
    "x = np.linspace(-6, 6, 100)\n",
    "\n",
    "# convert from Var to ndarray  \n",
    "def Var_to_nparray(x):\n",
    "  y = np.zeros((len(x),len(x[0])))\n",
    "  for i in range(len(x)):\n",
    "    for j in range(len(x[0])):\n",
    "      y[i,j] = x[i][j].v\n",
    "  return y\n",
    "\n",
    "# define 1-1 network with weight = 1 and relu activation \n",
    "NN = [ DenseLayer(1, 1, lambda x: x.relu(), initializer = ConstantInitializer(1.0)) ] \n",
    "y = Var_to_nparray(forward(nparray_to_Var(x), NN))\n",
    "\n",
    "#y = Var_to_nparray(relu(nparray_to_Var(x)))\n",
    "plt.plot(x,y)"
   ]
  },
  {
   "cell_type": "code",
   "execution_count": 44,
   "metadata": {
    "id": "oOL2UolJFtHL"
   },
   "outputs": [
    {
     "data": {
      "image/png": "[encoded data removed]",
      "text/plain": [
       "<Figure size 360x360 with 1 Axes>"
      ]
     },
     "metadata": {
      "needs_background": "light"
     },
     "output_type": "display_data"
    }
   ],
   "source": [
    "# Testing all activation layers\n",
    "\n",
    "x = np.linspace(-6, 6, 100)\n",
    "units = {\n",
    "    \"identity\": lambda x: x.identity(),\n",
    "    \"sigmoid\": lambda x: x.sigmoid(),  #<- uncomment before sharing\n",
    "    \"relu\": lambda x: x.relu(),\n",
    "    \"tanh\": lambda x: x.tanh() #<- uncomment before sharing\n",
    "}\n",
    "\n",
    "plt.figure(figsize=(5, 5))\n",
    "[plt.plot(x, Var_to_nparray(forward(nparray_to_Var(x), [DenseLayer(1, 1, unit, initializer = ConstantInitializer(1.0))]) ), label=unit_name, lw=2) for unit_name, unit in units.items()] # unit(nparray_to_Var(x))), label=unit_name, lw=2) for unit_name, unit in units.items()]\n",
    "plt.legend(loc=2, fontsize=16)\n",
    "plt.title('Our activation functions', fontsize=20)\n",
    "plt.ylim([-2, 5])\n",
    "plt.xlim([-6, 6])\n",
    "plt.show()"
   ]
  },
  {
   "cell_type": "markdown",
   "metadata": {
    "id": "b-jdEl-7FtGs"
   },
   "source": [
    "# Advanced initialization schemes\n",
    "\n",
    "If we are not careful with initialization, the signals we propagate forward ($a^{(l)}$, $l=1,\\ldots,L$) and backward ($\\delta^l$, $l=L,L-1,\\ldots,1$) can blow up or shrink to zero. A statistical analysis of the variance of the signals for different activation functions can be found in these two papers: [Glorot initialization](http://proceedings.mlr.press/v9/glorot10a/glorot10a.pdf) and [He initialization](https://arxiv.org/pdf/1502.01852v1.pdf). \n",
    "\n",
    "The result of the analyses are proposals for how to make the initialization such that the variance of the signals (forward and backward) are kept approxmimatly constant when propagating from layer to layer. The exact expressions depend upon the non-linear activation function used. In Glorot initialization, the aim is to keep both the forward and backward variances constant whereas He only aims at keeping the variance in the forward pass constant.\n",
    "\n",
    "We define $n_{in}$ and $n_{out}$ as the number of input units and output units of a particular layer. \n",
    "\n",
    "The Glorot initialization has the form: \n",
    "\n",
    "$$w_{ij} \\sim N \\bigg( 0, \\, \\frac{2 \\alpha }{n_{in} + n_{out}} \\bigg) \\ . $$\n",
    "\n",
    "where $N(\\mu,\\sigma^2)$ is a Gaussian distribution with mean $\\mu$ and variance $\\sigma^2$ and $\\alpha$ is a parameter that depends upon the activation function used. For $\\tanh$, $\\alpha=1$ and for Rectified Linear Unit (ReLU) activations, $\\alpha=2$. (It is also possible to use a uniform distribution for initialization, see [this blog post](https://mmuratarat.github.io/2019-02-25/xavier-glorot-he-weight-init).) \n",
    "\n",
    "The He initialization is very similar\n",
    "\n",
    "$$w_{ij} \\sim N \\bigg( 0, \\, \\frac{\\alpha}{n_{in}} \\bigg) \\ . $$"
   ]
  },
  {
   "cell_type": "markdown",
   "metadata": {
    "id": "mqeyab9qFtGs"
   },
   "source": [
    "## Exercise i) Glorot and He initialization\n",
    " \n",
    "Using the Initializer class, implement functions that implement Glorot and He \n",
    "\n",
    "Explain briefly how you would test numerically that these initializations have the sought after property. Hint: See plots in Glorot paper.\n",
    "\n",
    "Comment: If you want to be more advanced then try to make a universal initializer taking both the activation function and type (Glorot or He) as argument."
   ]
  },
  {
   "cell_type": "code",
   "execution_count": 45,
   "metadata": {
    "id": "Qyk01CgaFtGt"
   },
   "outputs": [],
   "source": [
    "## Glorot\n",
    "def DenseLayer_Glorot_tanh(n_in: int, n_out: int):\n",
    "  a = 2 # a = 2 for tanh\n",
    "  std = ((2*a)/(n_in+n_out))**(1/2) # <- replace with proper initialization\n",
    "  return DenseLayer(n_in, n_out, lambda x: x.tanh(), initializer = NormalInitializer(std))\n",
    "\n",
    "## He\n",
    "def DenseLayer_He_relu(n_in: int, n_out: int):\n",
    "  a = 1 # a = 1 for ReLu \n",
    "  std = (a/n_in)**(1/2) # <- replace with proper initialization\n",
    "  return DenseLayer(n_in, n_out, lambda x: x.relu(), initializer = NormalInitializer(std))"
   ]
  },
  {
   "cell_type": "markdown",
   "metadata": {
    "id": "-XyXBD37FtHk"
   },
   "source": [
    "## Exercise j) Forward pass unit test\n",
    "\n",
    "Write a bit of code to make a unit test that the forward pass works. This can be done by defining a simple network with for example all weights equal to one (using the ConstantInitializer method) and identity activation functions. \n",
    "\n",
    "Hints: Use the [assert](https://www.w3schools.com/python/ref_keyword_assert.asp), the nparray_to_Var and the Var_to_nparray commands. "
   ]
  },
  {
   "cell_type": "code",
   "execution_count": 46,
   "metadata": {
    "id": "k0miqRUAFtHl"
   },
   "outputs": [],
   "source": [
    "# Unit test activation functions\n",
    "\n",
    "NN_test = [\n",
    "    DenseLayer(1, 1, lambda x: x.identity(), initializer = ConstantInitializer())\n",
    "    ]\n",
    "\n",
    "# Do forward pass\n",
    "y_example = Var_to_nparray(forward(x_train, NN_test))\n",
    "x_example = Var_to_nparray(x_train)\n",
    "\n",
    "for i in range(x_example.size):\n",
    "    assert (1 - x_example[i]/y_example[i]) < 0.001\n",
    "\n",
    "\n"
   ]
  },
  {
   "cell_type": "markdown",
   "metadata": {
    "id": "faCxhfFnFtHp"
   },
   "source": [
    "# Loss functions\n",
    "\n",
    "We are only missing a loss function to we need to define a loss function and its derivative with respect to the output of the neural network $y$"
   ]
  },
  {
   "cell_type": "code",
   "execution_count": 47,
   "metadata": {
    "id": "I2eDYKvAFtHq"
   },
   "outputs": [],
   "source": [
    "def squared_loss(t, y):\n",
    "  \n",
    "  # add check that sizes agree\n",
    "  assert(len(t)==len(y))\n",
    "  \n",
    "  def squared_loss_single(t, y):\n",
    "    Loss = Var(0.0)\n",
    "    for i in range(len(t)): # sum over outputs\n",
    "      Loss += (t[i]-y[i]) ** 2\n",
    "    return Loss\n",
    "\n",
    "  Loss = Var(0.0)\n",
    "  for n in range(len(t)): # sum over training data\n",
    "    Loss += squared_loss_single(t[n],y[n])\n",
    "  return Loss"
   ]
  },
  {
   "cell_type": "markdown",
   "metadata": {
    "id": "SrwSJ2UWFtHu"
   },
   "source": [
    "## Exercise j) Implement cross entropy loss\n",
    "\n",
    "Insert code below to implement cross-entropy loss for general dimensionality of $t$. Use a logits formulation:\n",
    "$$\n",
    "\\rm{Loss} = - \\sum_i t_i \\, log \\, p_i \n",
    "$$\n",
    "with $p$ given by the the softmax function in terms of the logits $h$:\n",
    "$$\n",
    "p_i = \\frac{\\exp(h_i)}{\\sum_{i'} \\exp(h_{i'})} .\n",
    "$$\n",
    "Inserting $p$ in the expression for the loss gives\n",
    "$$\n",
    "\\rm{Loss} = - \\sum_i t_i h_i + \\rm{LogSumExp}(h) \\ ,\n",
    "$$\n",
    "where \n",
    "$$\n",
    "\\rm{LogSumExp}(h) = \\log \\sum_i \\exp h_i \\ .\n",
    "$$\n",
    "This is true for $t$ being a one-hot vector. \n",
    "\n",
    "Call the function to convince yourself it works. \n",
    "\n",
    "In practice you want to implement a [numerically stable](https://leimao.github.io/blog/LogSumExp/) version of LogSumExp. But we will not bother about that here.\n",
    "\n",
    "Help: You can add these methods in the Var class:\n",
    "\n",
    "    def exp(self):\n",
    "        return Var(exp(self.v), lambda: [(self, exp(self.v))])\n",
    "    \n",
    "    def log(self):\n",
    "        return Var(log(self.v), lambda: [(self, self.v ** -1)])"
   ]
  },
  {
   "cell_type": "code",
   "execution_count": 48,
   "metadata": {
    "id": "6nMuxyfzFtHv"
   },
   "outputs": [],
   "source": [
    "def cross_entropy_loss(t, h):\n",
    "     \n",
    "    Loss = Var(0.0)\n",
    "    # Insert code here\n",
    "    assert(len(t)==len(h))\n",
    "    \n",
    "    for i in range(len(t)):\n",
    "        a = nparray_to_Var( np.max( Var_to_nparray(h) ) )\n",
    "        sum_var = Var(0.0)\n",
    "        for j in range(len(h)):\n",
    "            sum_var += (h[i] - a).exp()\n",
    "        Loss +=  -t[i]*h[i] + a + sum_var.log()\n",
    "    return Loss"
   ]
  },
  {
   "cell_type": "markdown",
   "metadata": {
    "id": "8fAF5ew4FtHy"
   },
   "source": [
    "# Backward pass\n",
    "\n",
    "Now the magic happens! We get the calculation of the gradients for free. Just do:"
   ]
  },
  {
   "cell_type": "code",
   "execution_count": 50,
   "metadata": {
    "id": "iHyfPPI9Qqwu"
   },
   "outputs": [],
   "source": [
    "NN = [\n",
    "    DenseLayer(1, 5, lambda x: x.relu()),\n",
    "    DenseLayer(5, 1, lambda x: x.identity())\n",
    "]\n",
    "\n",
    "output = forward(x_train, NN)\n",
    "\n",
    "Loss = squared_loss(y_train,output)\n",
    "Loss.backward()"
   ]
  },
  {
   "cell_type": "markdown",
   "metadata": {
    "id": "49biIAYKQ1oG"
   },
   "source": [
    "and the gradients will be calculated:"
   ]
  },
  {
   "cell_type": "code",
   "execution_count": 51,
   "metadata": {
    "id": "_rGt1bq_Q7uk"
   },
   "outputs": [
    {
     "name": "stdout",
     "output_type": "stream",
     "text": [
      "Layer 0 \n",
      " Weights: [[Var(v=-0.0681, grad=-101.6867), Var(v=-0.0392, grad=0.0000), Var(v=-0.1333, grad=0.0000), Var(v=-0.0387, grad=0.0000), Var(v=-0.1703, grad=0.0000)]] Biases: [Var(v=0.0000, grad=87.7844), Var(v=0.0000, grad=0.0000), Var(v=0.0000, grad=0.0000), Var(v=0.0000, grad=0.0000), Var(v=0.0000, grad=0.0000)]\n",
      "Layer 1 \n",
      " Weights: [[Var(v=0.1906, grad=36.3165)], [Var(v=0.1828, grad=0.0000)], [Var(v=-0.0678, grad=0.0000)], [Var(v=-0.0831, grad=0.0000)], [Var(v=-0.0870, grad=0.0000)]] Biases: [Var(v=0.0000, grad=5.8412)]\n"
     ]
    },
    {
     "data": {
      "text/plain": [
       "[None, None]"
      ]
     },
     "execution_count": 51,
     "metadata": {},
     "output_type": "execute_result"
    }
   ],
   "source": [
    "[print('Layer', i, '\\n', NN[i]) for i in range(len(NN))] "
   ]
  },
  {
   "cell_type": "markdown",
   "metadata": {
    "id": "D7d7qK0uFtH9"
   },
   "source": [
    "# Backward pass unit test\n",
    "\n",
    "Above we used finite differences to test that Nanograd is actually doing what it is supposed to do. We can in principle try the same for the neural network. But we will trust that the test above is enough."
   ]
  },
  {
   "cell_type": "markdown",
   "metadata": {
    "id": "WgBi8GOSFtIN"
   },
   "source": [
    "# Training and validation\n",
    "\n",
    "We are ready to train some neural networks!\n",
    "\n",
    "We initialize again:"
   ]
  },
  {
   "cell_type": "code",
   "execution_count": 52,
   "metadata": {
    "id": "01ePmzBzRtdh"
   },
   "outputs": [],
   "source": [
    "NN = [\n",
    "    DenseLayer(1, 15, lambda x: x.relu()),\n",
    "    DenseLayer(15, 50, lambda x: x.relu()),\n",
    "    DenseLayer(50, 1, lambda x: x.identity())\n",
    "]\n",
    "\n",
    "output = forward(x_train, NN)\n",
    "\n",
    "Loss = squared_loss(y_train,output)\n",
    "Loss.backward()"
   ]
  },
  {
   "cell_type": "markdown",
   "metadata": {
    "id": "10iRPiQ1ISHw"
   },
   "source": [
    "and make an update:\n",
    "\n",
    "We introduce a help function parameters to have a handle in all parameters in the network."
   ]
  },
  {
   "cell_type": "code",
   "execution_count": 53,
   "metadata": {
    "id": "dhAI7eyeznia"
   },
   "outputs": [
    {
     "name": "stdout",
     "output_type": "stream",
     "text": [
      "Network before update:\n",
      "Layer 0 \n",
      " Weights: [[Var(v=-0.0152, grad=515.7059), Var(v=-0.0588, grad=0.0000), Var(v=0.0140, grad=0.0000), Var(v=-0.0325, grad=0.0000), Var(v=-0.1017, grad=0.0000), Var(v=-0.1951, grad=0.0000), Var(v=-0.0371, grad=0.0000), Var(v=-0.0889, grad=0.0000), Var(v=-0.0560, grad=0.0000), Var(v=-0.1311, grad=0.0000), Var(v=-0.0021, grad=0.0000), Var(v=-0.0677, grad=0.0000), Var(v=-0.0711, grad=0.0000), Var(v=0.0575, grad=0.0000), Var(v=0.1219, grad=0.0000)]] Biases: [Var(v=0.0000, grad=-446.8508), Var(v=0.0000, grad=0.0000), Var(v=0.0000, grad=0.0000), Var(v=0.0000, grad=0.0000), Var(v=0.0000, grad=0.0000), Var(v=0.0000, grad=0.0000), Var(v=0.0000, grad=0.0000), Var(v=0.0000, grad=0.0000), Var(v=0.0000, grad=0.0000), Var(v=0.0000, grad=0.0000), Var(v=0.0000, grad=0.0000), Var(v=0.0000, grad=0.0000), Var(v=0.0000, grad=0.0000), Var(v=0.0000, grad=0.0000), Var(v=0.0000, grad=0.0000)]\n",
      "Layer 1 \n",
      " Weights: [[Var(v=0.0957, grad=-82.0218), Var(v=0.0766, grad=0.0000), Var(v=0.0524, grad=0.0000), Var(v=-0.0674, grad=0.0000), Var(v=-0.0958, grad=0.0000), Var(v=0.0772, grad=0.0000), Var(v=-0.0823, grad=0.0000), Var(v=-0.0470, grad=0.0000), Var(v=-0.2063, grad=0.0000), Var(v=0.1151, grad=0.0000), Var(v=0.0436, grad=0.0000), Var(v=-0.1415, grad=0.0000), Var(v=0.0013, grad=0.0000), Var(v=0.1437, grad=0.0000), Var(v=0.0885, grad=0.0000), Var(v=-0.2449, grad=0.0000), Var(v=-0.1324, grad=0.0000), Var(v=0.1398, grad=0.0000), Var(v=0.0239, grad=0.0000), Var(v=0.0517, grad=0.0000), Var(v=0.0906, grad=0.0000), Var(v=-0.0456, grad=0.0000), Var(v=0.0556, grad=0.0000), Var(v=-0.0516, grad=0.0000), Var(v=-0.1002, grad=0.0000), Var(v=-0.1282, grad=0.0000), Var(v=0.0251, grad=0.0000), Var(v=0.1704, grad=0.0000), Var(v=0.1348, grad=0.0000), Var(v=-0.0986, grad=0.0000), Var(v=-0.0358, grad=0.0000), Var(v=-0.1403, grad=0.0000), Var(v=0.0009, grad=0.0000), Var(v=-0.0262, grad=0.0000), Var(v=-0.0133, grad=0.0000), Var(v=-0.0512, grad=0.0000), Var(v=0.0113, grad=0.0000), Var(v=-0.1741, grad=0.0000), Var(v=-0.0758, grad=0.0000), Var(v=0.0915, grad=0.0000), Var(v=-0.0004, grad=0.0000), Var(v=-0.0100, grad=0.0000), Var(v=0.2271, grad=0.0000), Var(v=0.1673, grad=0.0000), Var(v=-0.0711, grad=0.0000), Var(v=0.0370, grad=0.0000), Var(v=0.0792, grad=0.0000), Var(v=0.1365, grad=0.0000), Var(v=0.0405, grad=0.0000), Var(v=0.0919, grad=0.0000)], [Var(v=-0.0241, grad=0.0000), Var(v=-0.0600, grad=0.0000), Var(v=0.0530, grad=0.0000), Var(v=0.0427, grad=0.0000), Var(v=-0.0107, grad=0.0000), Var(v=-0.0699, grad=0.0000), Var(v=-0.1055, grad=0.0000), Var(v=-0.1397, grad=0.0000), Var(v=-0.0311, grad=0.0000), Var(v=-0.1084, grad=0.0000), Var(v=-0.0408, grad=0.0000), Var(v=-0.1244, grad=0.0000), Var(v=-0.0039, grad=0.0000), Var(v=0.1280, grad=0.0000), Var(v=-0.0220, grad=0.0000), Var(v=0.0240, grad=0.0000), Var(v=0.1106, grad=0.0000), Var(v=0.0905, grad=0.0000), Var(v=0.0661, grad=0.0000), Var(v=0.1296, grad=0.0000), Var(v=0.0771, grad=0.0000), Var(v=0.2637, grad=0.0000), Var(v=-0.0603, grad=0.0000), Var(v=-0.1997, grad=0.0000), Var(v=0.1159, grad=0.0000), Var(v=0.1549, grad=0.0000), Var(v=0.0621, grad=0.0000), Var(v=-0.1481, grad=0.0000), Var(v=-0.0218, grad=0.0000), Var(v=-0.1761, grad=0.0000), Var(v=0.0999, grad=0.0000), Var(v=0.0904, grad=0.0000), Var(v=0.1760, grad=0.0000), Var(v=0.0222, grad=0.0000), Var(v=-0.1978, grad=0.0000), Var(v=0.1390, grad=0.0000), Var(v=0.0899, grad=0.0000), Var(v=-0.0642, grad=0.0000), Var(v=0.1455, grad=0.0000), Var(v=-0.0643, grad=0.0000), Var(v=0.0377, grad=0.0000), Var(v=-0.0583, grad=0.0000), Var(v=-0.1656, grad=0.0000), Var(v=0.1254, grad=0.0000), Var(v=-0.0527, grad=0.0000), Var(v=-0.0956, grad=0.0000), Var(v=0.0098, grad=0.0000), Var(v=-0.0061, grad=0.0000), Var(v=0.2174, grad=0.0000), Var(v=-0.0982, grad=0.0000)], [Var(v=-0.1132, grad=0.0000), Var(v=0.0082, grad=0.0000), Var(v=0.1844, grad=0.0000), Var(v=0.0262, grad=0.0000), Var(v=0.1321, grad=0.0000), Var(v=-0.0698, grad=0.0000), Var(v=-0.1603, grad=0.0000), Var(v=0.1222, grad=0.0000), Var(v=-0.1052, grad=0.0000), Var(v=-0.0370, grad=0.0000), Var(v=0.0532, grad=0.0000), Var(v=0.0959, grad=0.0000), Var(v=-0.0319, grad=0.0000), Var(v=-0.0194, grad=0.0000), Var(v=0.0277, grad=0.0000), Var(v=-0.1157, grad=0.0000), Var(v=0.0414, grad=0.0000), Var(v=0.0730, grad=0.0000), Var(v=-0.0541, grad=0.0000), Var(v=0.1850, grad=0.0000), Var(v=-0.1086, grad=0.0000), Var(v=0.1195, grad=0.0000), Var(v=-0.0166, grad=0.0000), Var(v=0.1205, grad=0.0000), Var(v=-0.1225, grad=0.0000), Var(v=0.0522, grad=0.0000), Var(v=0.1138, grad=0.0000), Var(v=-0.0303, grad=0.0000), Var(v=0.0200, grad=0.0000), Var(v=-0.1253, grad=0.0000), Var(v=0.1392, grad=0.0000), Var(v=-0.1055, grad=0.0000), Var(v=0.1150, grad=0.0000), Var(v=-0.0056, grad=0.0000), Var(v=-0.0999, grad=0.0000), Var(v=-0.0588, grad=0.0000), Var(v=0.0935, grad=0.0000), Var(v=-0.0137, grad=0.0000), Var(v=0.1765, grad=0.0000), Var(v=-0.0899, grad=0.0000), Var(v=0.0515, grad=0.0000), Var(v=-0.0131, grad=0.0000), Var(v=-0.0661, grad=0.0000), Var(v=-0.0642, grad=0.0000), Var(v=0.0688, grad=0.0000), Var(v=0.0515, grad=0.0000), Var(v=0.0872, grad=0.0000), Var(v=-0.0124, grad=0.0000), Var(v=0.0445, grad=0.0000), Var(v=-0.1985, grad=0.0000)], [Var(v=0.0406, grad=0.0000), Var(v=0.1829, grad=0.0000), Var(v=-0.0056, grad=0.0000), Var(v=0.0536, grad=0.0000), Var(v=0.0270, grad=0.0000), Var(v=-0.0608, grad=0.0000), Var(v=0.1466, grad=0.0000), Var(v=0.1180, grad=0.0000), Var(v=-0.0271, grad=0.0000), Var(v=-0.0747, grad=0.0000), Var(v=0.0555, grad=0.0000), Var(v=-0.1243, grad=0.0000), Var(v=-0.0584, grad=0.0000), Var(v=0.0353, grad=0.0000), Var(v=-0.1717, grad=0.0000), Var(v=-0.0329, grad=0.0000), Var(v=0.0117, grad=0.0000), Var(v=0.0048, grad=0.0000), Var(v=0.1792, grad=0.0000), Var(v=-0.1464, grad=0.0000), Var(v=0.0627, grad=0.0000), Var(v=0.0781, grad=0.0000), Var(v=0.0093, grad=0.0000), Var(v=-0.0486, grad=0.0000), Var(v=0.1218, grad=0.0000), Var(v=0.1009, grad=0.0000), Var(v=0.0767, grad=0.0000), Var(v=0.1064, grad=0.0000), Var(v=0.1249, grad=0.0000), Var(v=0.0982, grad=0.0000), Var(v=-0.0095, grad=0.0000), Var(v=0.0584, grad=0.0000), Var(v=-0.1296, grad=0.0000), Var(v=0.0708, grad=0.0000), Var(v=0.0468, grad=0.0000), Var(v=-0.0548, grad=0.0000), Var(v=-0.0840, grad=0.0000), Var(v=-0.0906, grad=0.0000), Var(v=-0.0117, grad=0.0000), Var(v=-0.1281, grad=0.0000), Var(v=-0.1028, grad=0.0000), Var(v=-0.0947, grad=0.0000), Var(v=0.0819, grad=0.0000), Var(v=-0.1618, grad=0.0000), Var(v=0.0439, grad=0.0000), Var(v=-0.1489, grad=0.0000), Var(v=-0.0780, grad=0.0000), Var(v=-0.1710, grad=0.0000), Var(v=0.0108, grad=0.0000), Var(v=0.0881, grad=0.0000)], [Var(v=0.0081, grad=0.0000), Var(v=-0.1486, grad=0.0000), Var(v=-0.2418, grad=0.0000), Var(v=0.0609, grad=0.0000), Var(v=0.0188, grad=0.0000), Var(v=0.0386, grad=0.0000), Var(v=0.0356, grad=0.0000), Var(v=0.0723, grad=0.0000), Var(v=0.1456, grad=0.0000), Var(v=0.1000, grad=0.0000), Var(v=0.0290, grad=0.0000), Var(v=-0.0522, grad=0.0000), Var(v=0.0082, grad=0.0000), Var(v=-0.1266, grad=0.0000), Var(v=-0.0163, grad=0.0000), Var(v=0.1306, grad=0.0000), Var(v=0.0683, grad=0.0000), Var(v=-0.0127, grad=0.0000), Var(v=0.0432, grad=0.0000), Var(v=-0.0102, grad=0.0000), Var(v=-0.0004, grad=0.0000), Var(v=-0.0412, grad=0.0000), Var(v=-0.1189, grad=0.0000), Var(v=-0.0457, grad=0.0000), Var(v=0.1095, grad=0.0000), Var(v=0.0263, grad=0.0000), Var(v=0.0419, grad=0.0000), Var(v=-0.1848, grad=0.0000), Var(v=-0.1569, grad=0.0000), Var(v=0.0114, grad=0.0000), Var(v=0.0010, grad=0.0000), Var(v=-0.0226, grad=0.0000), Var(v=0.0176, grad=0.0000), Var(v=-0.2135, grad=0.0000), Var(v=0.0197, grad=0.0000), Var(v=-0.0315, grad=0.0000), Var(v=0.0859, grad=0.0000), Var(v=-0.0539, grad=0.0000), Var(v=0.0337, grad=0.0000), Var(v=0.0698, grad=0.0000), Var(v=0.0323, grad=0.0000), Var(v=-0.1047, grad=0.0000), Var(v=-0.1485, grad=0.0000), Var(v=-0.0391, grad=0.0000), Var(v=-0.1097, grad=0.0000), Var(v=-0.1399, grad=0.0000), Var(v=0.0679, grad=0.0000), Var(v=-0.1166, grad=0.0000), Var(v=-0.0791, grad=0.0000), Var(v=0.0256, grad=0.0000)], [Var(v=0.1169, grad=0.0000), Var(v=-0.0341, grad=0.0000), Var(v=-0.0391, grad=0.0000), Var(v=-0.0672, grad=0.0000), Var(v=0.0045, grad=0.0000), Var(v=-0.0953, grad=0.0000), Var(v=-0.1496, grad=0.0000), Var(v=-0.0660, grad=0.0000), Var(v=-0.0251, grad=0.0000), Var(v=0.0392, grad=0.0000), Var(v=0.1110, grad=0.0000), Var(v=-0.0224, grad=0.0000), Var(v=-0.1842, grad=0.0000), Var(v=0.0541, grad=0.0000), Var(v=0.0535, grad=0.0000), Var(v=0.0109, grad=0.0000), Var(v=-0.1017, grad=0.0000), Var(v=-0.1113, grad=0.0000), Var(v=0.0935, grad=0.0000), Var(v=-0.1535, grad=0.0000), Var(v=-0.0896, grad=0.0000), Var(v=-0.0242, grad=0.0000), Var(v=-0.0033, grad=0.0000), Var(v=0.1433, grad=0.0000), Var(v=0.0078, grad=0.0000), Var(v=-0.1237, grad=0.0000), Var(v=-0.0642, grad=0.0000), Var(v=-0.2540, grad=0.0000), Var(v=0.0318, grad=0.0000), Var(v=0.1700, grad=0.0000), Var(v=-0.1364, grad=0.0000), Var(v=-0.1236, grad=0.0000), Var(v=-0.0815, grad=0.0000), Var(v=0.1008, grad=0.0000), Var(v=0.1029, grad=0.0000), Var(v=0.1111, grad=0.0000), Var(v=-0.0532, grad=0.0000), Var(v=-0.1234, grad=0.0000), Var(v=0.0212, grad=0.0000), Var(v=-0.1772, grad=0.0000), Var(v=-0.0130, grad=0.0000), Var(v=-0.0907, grad=0.0000), Var(v=-0.0431, grad=0.0000), Var(v=-0.0108, grad=0.0000), Var(v=0.0438, grad=0.0000), Var(v=0.0986, grad=0.0000), Var(v=-0.0341, grad=0.0000), Var(v=-0.2053, grad=0.0000), Var(v=-0.1517, grad=0.0000), Var(v=-0.0840, grad=0.0000)], [Var(v=-0.0020, grad=0.0000), Var(v=0.0768, grad=0.0000), Var(v=-0.0243, grad=0.0000), Var(v=-0.0588, grad=0.0000), Var(v=0.0696, grad=0.0000), Var(v=0.0686, grad=0.0000), Var(v=-0.1277, grad=0.0000), Var(v=0.0716, grad=0.0000), Var(v=-0.0287, grad=0.0000), Var(v=-0.1052, grad=0.0000), Var(v=0.1135, grad=0.0000), Var(v=-0.0047, grad=0.0000), Var(v=0.0273, grad=0.0000), Var(v=-0.0365, grad=0.0000), Var(v=0.0053, grad=0.0000), Var(v=-0.1667, grad=0.0000), Var(v=0.1176, grad=0.0000), Var(v=-0.0335, grad=0.0000), Var(v=0.1693, grad=0.0000), Var(v=-0.0202, grad=0.0000), Var(v=0.0437, grad=0.0000), Var(v=0.1573, grad=0.0000), Var(v=-0.1310, grad=0.0000), Var(v=0.0562, grad=0.0000), Var(v=0.0643, grad=0.0000), Var(v=-0.0874, grad=0.0000), Var(v=0.0797, grad=0.0000), Var(v=0.0515, grad=0.0000), Var(v=0.0789, grad=0.0000), Var(v=0.0663, grad=0.0000), Var(v=0.0288, grad=0.0000), Var(v=0.1265, grad=0.0000), Var(v=0.0754, grad=0.0000), Var(v=0.0311, grad=0.0000), Var(v=0.0300, grad=0.0000), Var(v=-0.0447, grad=0.0000), Var(v=-0.1682, grad=0.0000), Var(v=0.0658, grad=0.0000), Var(v=-0.2457, grad=0.0000), Var(v=0.1366, grad=0.0000), Var(v=0.1817, grad=0.0000), Var(v=0.0341, grad=0.0000), Var(v=0.1063, grad=0.0000), Var(v=0.0342, grad=0.0000), Var(v=-0.0006, grad=0.0000), Var(v=0.0169, grad=0.0000), Var(v=0.0996, grad=0.0000), Var(v=0.0754, grad=0.0000), Var(v=0.1797, grad=0.0000), Var(v=-0.1273, grad=0.0000)], [Var(v=0.0888, grad=0.0000), Var(v=0.1654, grad=0.0000), Var(v=0.0899, grad=0.0000), Var(v=-0.0292, grad=0.0000), Var(v=-0.0760, grad=0.0000), Var(v=-0.0901, grad=0.0000), Var(v=0.1953, grad=0.0000), Var(v=0.1039, grad=0.0000), Var(v=0.0283, grad=0.0000), Var(v=-0.0172, grad=0.0000), Var(v=-0.0875, grad=0.0000), Var(v=0.0325, grad=0.0000), Var(v=0.1274, grad=0.0000), Var(v=0.1592, grad=0.0000), Var(v=0.1724, grad=0.0000), Var(v=0.0588, grad=0.0000), Var(v=-0.0735, grad=0.0000), Var(v=-0.0349, grad=0.0000), Var(v=0.0010, grad=0.0000), Var(v=0.0179, grad=0.0000), Var(v=0.0440, grad=0.0000), Var(v=0.0411, grad=0.0000), Var(v=-0.1306, grad=0.0000), Var(v=-0.1414, grad=0.0000), Var(v=0.0501, grad=0.0000), Var(v=0.0330, grad=0.0000), Var(v=0.2265, grad=0.0000), Var(v=-0.0941, grad=0.0000), Var(v=0.0168, grad=0.0000), Var(v=-0.0968, grad=0.0000), Var(v=0.0017, grad=0.0000), Var(v=0.1139, grad=0.0000), Var(v=-0.1253, grad=0.0000), Var(v=-0.0921, grad=0.0000), Var(v=-0.0296, grad=0.0000), Var(v=-0.0134, grad=0.0000), Var(v=-0.0487, grad=0.0000), Var(v=0.0078, grad=0.0000), Var(v=-0.1439, grad=0.0000), Var(v=0.0763, grad=0.0000), Var(v=0.1128, grad=0.0000), Var(v=-0.0492, grad=0.0000), Var(v=0.0137, grad=0.0000), Var(v=0.0556, grad=0.0000), Var(v=-0.0022, grad=0.0000), Var(v=-0.1002, grad=0.0000), Var(v=-0.1189, grad=0.0000), Var(v=-0.0445, grad=0.0000), Var(v=-0.0328, grad=0.0000), Var(v=0.1496, grad=0.0000)], [Var(v=0.0149, grad=0.0000), Var(v=0.1287, grad=0.0000), Var(v=0.1393, grad=0.0000), Var(v=0.0823, grad=0.0000), Var(v=-0.1435, grad=0.0000), Var(v=0.1072, grad=0.0000), Var(v=0.0501, grad=0.0000), Var(v=0.1295, grad=0.0000), Var(v=-0.1065, grad=0.0000), Var(v=-0.1260, grad=0.0000), Var(v=-0.0308, grad=0.0000), Var(v=-0.1700, grad=0.0000), Var(v=-0.1077, grad=0.0000), Var(v=0.0359, grad=0.0000), Var(v=-0.0222, grad=0.0000), Var(v=0.0026, grad=0.0000), Var(v=-0.0614, grad=0.0000), Var(v=-0.0620, grad=0.0000), Var(v=0.1003, grad=0.0000), Var(v=0.0890, grad=0.0000), Var(v=0.1275, grad=0.0000), Var(v=0.0705, grad=0.0000), Var(v=0.1178, grad=0.0000), Var(v=0.0490, grad=0.0000), Var(v=0.0884, grad=0.0000), Var(v=-0.1013, grad=0.0000), Var(v=-0.0718, grad=0.0000), Var(v=0.1672, grad=0.0000), Var(v=-0.0326, grad=0.0000), Var(v=-0.0986, grad=0.0000), Var(v=0.0367, grad=0.0000), Var(v=0.0517, grad=0.0000), Var(v=0.1424, grad=0.0000), Var(v=0.0875, grad=0.0000), Var(v=0.1395, grad=0.0000), Var(v=0.0096, grad=0.0000), Var(v=-0.0063, grad=0.0000), Var(v=0.0784, grad=0.0000), Var(v=0.0481, grad=0.0000), Var(v=-0.0145, grad=0.0000), Var(v=-0.0646, grad=0.0000), Var(v=0.0367, grad=0.0000), Var(v=-0.1281, grad=0.0000), Var(v=-0.0438, grad=0.0000), Var(v=-0.0177, grad=0.0000), Var(v=0.0766, grad=0.0000), Var(v=-0.0548, grad=0.0000), Var(v=0.0390, grad=0.0000), Var(v=0.0662, grad=0.0000), Var(v=-0.0410, grad=0.0000)], [Var(v=-0.1354, grad=0.0000), Var(v=0.1141, grad=0.0000), Var(v=-0.1022, grad=0.0000), Var(v=0.0015, grad=0.0000), Var(v=0.1044, grad=0.0000), Var(v=-0.0091, grad=0.0000), Var(v=0.0294, grad=0.0000), Var(v=0.0614, grad=0.0000), Var(v=-0.0681, grad=0.0000), Var(v=-0.0970, grad=0.0000), Var(v=0.0836, grad=0.0000), Var(v=-0.0246, grad=0.0000), Var(v=0.0691, grad=0.0000), Var(v=-0.0265, grad=0.0000), Var(v=-0.0861, grad=0.0000), Var(v=-0.0263, grad=0.0000), Var(v=-0.0344, grad=0.0000), Var(v=0.0546, grad=0.0000), Var(v=0.1100, grad=0.0000), Var(v=0.0500, grad=0.0000), Var(v=0.1762, grad=0.0000), Var(v=0.0084, grad=0.0000), Var(v=0.1150, grad=0.0000), Var(v=-0.0390, grad=0.0000), Var(v=0.0071, grad=0.0000), Var(v=-0.0763, grad=0.0000), Var(v=-0.1459, grad=0.0000), Var(v=-0.0594, grad=0.0000), Var(v=0.0919, grad=0.0000), Var(v=-0.0386, grad=0.0000), Var(v=0.1659, grad=0.0000), Var(v=-0.0911, grad=0.0000), Var(v=-0.0408, grad=0.0000), Var(v=0.0603, grad=0.0000), Var(v=0.2179, grad=0.0000), Var(v=-0.0123, grad=0.0000), Var(v=-0.0613, grad=0.0000), Var(v=-0.0493, grad=0.0000), Var(v=-0.0335, grad=0.0000), Var(v=0.2212, grad=0.0000), Var(v=0.0284, grad=0.0000), Var(v=0.0131, grad=0.0000), Var(v=-0.0138, grad=0.0000), Var(v=-0.0396, grad=0.0000), Var(v=0.1169, grad=0.0000), Var(v=-0.0524, grad=0.0000), Var(v=-0.0321, grad=0.0000), Var(v=-0.1978, grad=0.0000), Var(v=0.0639, grad=0.0000), Var(v=0.0395, grad=0.0000)], [Var(v=0.1392, grad=0.0000), Var(v=0.0147, grad=0.0000), Var(v=0.0527, grad=0.0000), Var(v=0.0347, grad=0.0000), Var(v=-0.0087, grad=0.0000), Var(v=0.2037, grad=0.0000), Var(v=-0.0980, grad=0.0000), Var(v=-0.0765, grad=0.0000), Var(v=-0.0783, grad=0.0000), Var(v=0.0460, grad=0.0000), Var(v=-0.1008, grad=0.0000), Var(v=0.0654, grad=0.0000), Var(v=0.0341, grad=0.0000), Var(v=-0.0694, grad=0.0000), Var(v=0.0281, grad=0.0000), Var(v=0.0140, grad=0.0000), Var(v=0.1113, grad=0.0000), Var(v=-0.0838, grad=0.0000), Var(v=0.0616, grad=0.0000), Var(v=0.1149, grad=0.0000), Var(v=-0.1113, grad=0.0000), Var(v=0.1274, grad=0.0000), Var(v=0.2023, grad=0.0000), Var(v=0.2356, grad=0.0000), Var(v=-0.1348, grad=0.0000), Var(v=-0.0774, grad=0.0000), Var(v=-0.0799, grad=0.0000), Var(v=-0.0045, grad=0.0000), Var(v=-0.0026, grad=0.0000), Var(v=-0.0507, grad=0.0000), Var(v=0.0824, grad=0.0000), Var(v=-0.0330, grad=0.0000), Var(v=0.0652, grad=0.0000), Var(v=0.0660, grad=0.0000), Var(v=0.0159, grad=0.0000), Var(v=0.0289, grad=0.0000), Var(v=-0.0176, grad=0.0000), Var(v=0.0199, grad=0.0000), Var(v=-0.1727, grad=0.0000), Var(v=-0.0558, grad=0.0000), Var(v=-0.0482, grad=0.0000), Var(v=-0.0463, grad=0.0000), Var(v=0.0430, grad=0.0000), Var(v=-0.1528, grad=0.0000), Var(v=0.1527, grad=0.0000), Var(v=-0.0609, grad=0.0000), Var(v=0.2921, grad=0.0000), Var(v=0.1053, grad=0.0000), Var(v=-0.0722, grad=0.0000), Var(v=0.0934, grad=0.0000)], [Var(v=-0.0338, grad=0.0000), Var(v=-0.0379, grad=0.0000), Var(v=0.0721, grad=0.0000), Var(v=-0.0531, grad=0.0000), Var(v=-0.1879, grad=0.0000), Var(v=-0.0322, grad=0.0000), Var(v=-0.1353, grad=0.0000), Var(v=-0.0317, grad=0.0000), Var(v=-0.0482, grad=0.0000), Var(v=-0.1473, grad=0.0000), Var(v=0.0467, grad=0.0000), Var(v=-0.0067, grad=0.0000), Var(v=-0.0951, grad=0.0000), Var(v=0.0649, grad=0.0000), Var(v=-0.0981, grad=0.0000), Var(v=0.0684, grad=0.0000), Var(v=0.0423, grad=0.0000), Var(v=0.0004, grad=0.0000), Var(v=0.0950, grad=0.0000), Var(v=0.1032, grad=0.0000), Var(v=-0.0006, grad=0.0000), Var(v=0.0205, grad=0.0000), Var(v=0.1553, grad=0.0000), Var(v=0.0547, grad=0.0000), Var(v=-0.1066, grad=0.0000), Var(v=-0.0084, grad=0.0000), Var(v=-0.0420, grad=0.0000), Var(v=-0.0238, grad=0.0000), Var(v=0.0320, grad=0.0000), Var(v=-0.0557, grad=0.0000), Var(v=-0.0532, grad=0.0000), Var(v=-0.0738, grad=0.0000), Var(v=0.0025, grad=0.0000), Var(v=-0.2228, grad=0.0000), Var(v=-0.0031, grad=0.0000), Var(v=-0.1086, grad=0.0000), Var(v=-0.0132, grad=0.0000), Var(v=-0.0307, grad=0.0000), Var(v=-0.0661, grad=0.0000), Var(v=-0.0138, grad=0.0000), Var(v=-0.1111, grad=0.0000), Var(v=0.1116, grad=0.0000), Var(v=0.0681, grad=0.0000), Var(v=0.0929, grad=0.0000), Var(v=-0.0561, grad=0.0000), Var(v=0.1358, grad=0.0000), Var(v=0.0185, grad=0.0000), Var(v=-0.0489, grad=0.0000), Var(v=-0.2566, grad=0.0000), Var(v=0.0841, grad=0.0000)], [Var(v=-0.1779, grad=0.0000), Var(v=-0.0165, grad=0.0000), Var(v=-0.2587, grad=0.0000), Var(v=-0.0677, grad=0.0000), Var(v=0.1192, grad=0.0000), Var(v=-0.0354, grad=0.0000), Var(v=0.2020, grad=0.0000), Var(v=0.0203, grad=0.0000), Var(v=0.0157, grad=0.0000), Var(v=0.0703, grad=0.0000), Var(v=0.1376, grad=0.0000), Var(v=-0.1757, grad=0.0000), Var(v=0.1539, grad=0.0000), Var(v=0.0441, grad=0.0000), Var(v=-0.1769, grad=0.0000), Var(v=0.1035, grad=0.0000), Var(v=0.0727, grad=0.0000), Var(v=-0.1691, grad=0.0000), Var(v=-0.0218, grad=0.0000), Var(v=0.0237, grad=0.0000), Var(v=-0.1228, grad=0.0000), Var(v=0.1546, grad=0.0000), Var(v=0.1120, grad=0.0000), Var(v=0.0593, grad=0.0000), Var(v=-0.0672, grad=0.0000), Var(v=0.0003, grad=0.0000), Var(v=0.1232, grad=0.0000), Var(v=-0.0587, grad=0.0000), Var(v=0.1417, grad=0.0000), Var(v=0.0460, grad=0.0000), Var(v=0.0754, grad=0.0000), Var(v=-0.1211, grad=0.0000), Var(v=0.1331, grad=0.0000), Var(v=-0.0207, grad=0.0000), Var(v=-0.1398, grad=0.0000), Var(v=-0.0159, grad=0.0000), Var(v=0.1367, grad=0.0000), Var(v=-0.1425, grad=0.0000), Var(v=0.0618, grad=0.0000), Var(v=-0.0076, grad=0.0000), Var(v=0.0857, grad=0.0000), Var(v=0.0484, grad=0.0000), Var(v=-0.0889, grad=0.0000), Var(v=-0.0125, grad=0.0000), Var(v=0.0166, grad=0.0000), Var(v=-0.0322, grad=0.0000), Var(v=-0.0404, grad=0.0000), Var(v=-0.1002, grad=0.0000), Var(v=-0.1758, grad=0.0000), Var(v=-0.0777, grad=0.0000)], [Var(v=-0.0038, grad=0.0000), Var(v=0.0754, grad=0.0000), Var(v=-0.1233, grad=0.0000), Var(v=0.0956, grad=0.0000), Var(v=-0.0560, grad=0.0000), Var(v=-0.0334, grad=0.0000), Var(v=-0.0589, grad=0.0000), Var(v=0.0432, grad=0.0000), Var(v=-0.0700, grad=0.0000), Var(v=-0.1383, grad=0.0000), Var(v=0.0764, grad=0.0000), Var(v=-0.0161, grad=0.0000), Var(v=-0.0558, grad=0.0000), Var(v=0.0154, grad=0.0000), Var(v=0.0685, grad=0.0000), Var(v=0.0356, grad=0.0000), Var(v=0.0175, grad=0.0000), Var(v=-0.1549, grad=0.0000), Var(v=0.1781, grad=0.0000), Var(v=0.0110, grad=0.0000), Var(v=0.0272, grad=0.0000), Var(v=-0.1037, grad=0.0000), Var(v=0.0006, grad=0.0000), Var(v=0.0849, grad=0.0000), Var(v=-0.0616, grad=0.0000), Var(v=0.0446, grad=0.0000), Var(v=0.0398, grad=0.0000), Var(v=0.0067, grad=0.0000), Var(v=0.0715, grad=0.0000), Var(v=-0.0221, grad=0.0000), Var(v=0.0578, grad=0.0000), Var(v=-0.0868, grad=0.0000), Var(v=-0.2501, grad=0.0000), Var(v=-0.0620, grad=0.0000), Var(v=0.0310, grad=0.0000), Var(v=0.0557, grad=0.0000), Var(v=0.0794, grad=0.0000), Var(v=-0.0089, grad=0.0000), Var(v=0.1534, grad=0.0000), Var(v=0.0044, grad=0.0000), Var(v=0.2140, grad=0.0000), Var(v=-0.0106, grad=0.0000), Var(v=-0.2502, grad=0.0000), Var(v=0.0865, grad=0.0000), Var(v=0.1146, grad=0.0000), Var(v=0.2186, grad=0.0000), Var(v=-0.1205, grad=0.0000), Var(v=-0.0315, grad=0.0000), Var(v=-0.0850, grad=0.0000), Var(v=-0.1100, grad=0.0000)], [Var(v=-0.0149, grad=0.0000), Var(v=-0.0293, grad=0.0000), Var(v=0.0177, grad=0.0000), Var(v=-0.1374, grad=0.0000), Var(v=0.0153, grad=0.0000), Var(v=-0.0638, grad=0.0000), Var(v=-0.0156, grad=0.0000), Var(v=0.0498, grad=0.0000), Var(v=-0.1377, grad=0.0000), Var(v=0.1218, grad=0.0000), Var(v=-0.0236, grad=0.0000), Var(v=-0.0115, grad=0.0000), Var(v=0.0474, grad=0.0000), Var(v=-0.0258, grad=0.0000), Var(v=-0.0233, grad=0.0000), Var(v=0.2529, grad=0.0000), Var(v=-0.0211, grad=0.0000), Var(v=0.0785, grad=0.0000), Var(v=0.0392, grad=0.0000), Var(v=0.1730, grad=0.0000), Var(v=-0.1368, grad=0.0000), Var(v=-0.0942, grad=0.0000), Var(v=-0.1854, grad=0.0000), Var(v=-0.1295, grad=0.0000), Var(v=-0.1164, grad=0.0000), Var(v=0.0898, grad=0.0000), Var(v=-0.0467, grad=0.0000), Var(v=-0.0499, grad=0.0000), Var(v=0.0444, grad=0.0000), Var(v=-0.0053, grad=0.0000), Var(v=0.1920, grad=0.0000), Var(v=-0.1139, grad=0.0000), Var(v=-0.2680, grad=0.0000), Var(v=0.0032, grad=0.0000), Var(v=0.2661, grad=0.0000), Var(v=-0.0268, grad=0.0000), Var(v=0.0218, grad=0.0000), Var(v=-0.0427, grad=0.0000), Var(v=0.2412, grad=0.0000), Var(v=-0.2072, grad=0.0000), Var(v=0.0402, grad=0.0000), Var(v=-0.0859, grad=0.0000), Var(v=-0.0545, grad=0.0000), Var(v=0.0541, grad=0.0000), Var(v=0.1030, grad=0.0000), Var(v=-0.0275, grad=0.0000), Var(v=-0.0598, grad=0.0000), Var(v=-0.0279, grad=0.0000), Var(v=-0.0863, grad=0.0000), Var(v=0.0950, grad=0.0000)]] Biases: [Var(v=0.0000, grad=-311.1884), Var(v=0.0000, grad=0.0000), Var(v=0.0000, grad=0.0000), Var(v=0.0000, grad=0.0000), Var(v=0.0000, grad=0.0000), Var(v=0.0000, grad=0.0000), Var(v=0.0000, grad=0.0000), Var(v=0.0000, grad=0.0000), Var(v=0.0000, grad=0.0000), Var(v=0.0000, grad=0.0000), Var(v=0.0000, grad=0.0000), Var(v=0.0000, grad=0.0000), Var(v=0.0000, grad=0.0000), Var(v=0.0000, grad=0.0000), Var(v=0.0000, grad=0.0000), Var(v=0.0000, grad=0.0000), Var(v=0.0000, grad=0.0000), Var(v=0.0000, grad=0.0000), Var(v=0.0000, grad=0.0000), Var(v=0.0000, grad=0.0000), Var(v=0.0000, grad=0.0000), Var(v=0.0000, grad=0.0000), Var(v=0.0000, grad=0.0000), Var(v=0.0000, grad=0.0000), Var(v=0.0000, grad=0.0000), Var(v=0.0000, grad=0.0000), Var(v=0.0000, grad=0.0000), Var(v=0.0000, grad=0.0000), Var(v=0.0000, grad=0.0000), Var(v=0.0000, grad=0.0000), Var(v=0.0000, grad=0.0000), Var(v=0.0000, grad=0.0000), Var(v=0.0000, grad=0.0000), Var(v=0.0000, grad=0.0000), Var(v=0.0000, grad=0.0000), Var(v=0.0000, grad=0.0000), Var(v=0.0000, grad=0.0000), Var(v=0.0000, grad=0.0000), Var(v=0.0000, grad=0.0000), Var(v=0.0000, grad=0.0000), Var(v=0.0000, grad=0.0000), Var(v=0.0000, grad=0.0000), Var(v=0.0000, grad=0.0000), Var(v=0.0000, grad=0.0000), Var(v=0.0000, grad=0.0000), Var(v=0.0000, grad=0.0000), Var(v=0.0000, grad=0.0000), Var(v=0.0000, grad=0.0000), Var(v=0.0000, grad=0.0000), Var(v=0.0000, grad=0.0000)]\n",
      "Layer 2 \n",
      " Weights: [[Var(v=-0.0793, grad=99.0008)], [Var(v=0.1573, grad=0.0000)], [Var(v=0.0872, grad=0.0000)], [Var(v=-0.3458, grad=0.0000)], [Var(v=0.0767, grad=0.0000)], [Var(v=-0.2091, grad=0.0000)], [Var(v=0.0463, grad=0.0000)], [Var(v=0.0282, grad=0.0000)], [Var(v=-0.0155, grad=0.0000)], [Var(v=-0.0268, grad=0.0000)], [Var(v=0.0291, grad=0.0000)], [Var(v=0.0518, grad=0.0000)], [Var(v=-0.0448, grad=0.0000)], [Var(v=0.0370, grad=0.0000)], [Var(v=0.0362, grad=0.0000)], [Var(v=-0.1648, grad=0.0000)], [Var(v=0.0425, grad=0.0000)], [Var(v=0.1210, grad=0.0000)], [Var(v=0.0788, grad=0.0000)], [Var(v=0.1317, grad=0.0000)], [Var(v=0.0123, grad=0.0000)], [Var(v=-0.0326, grad=0.0000)], [Var(v=-0.0017, grad=0.0000)], [Var(v=-0.1932, grad=0.0000)], [Var(v=0.0281, grad=0.0000)], [Var(v=0.0025, grad=0.0000)], [Var(v=-0.1259, grad=0.0000)], [Var(v=0.1825, grad=0.0000)], [Var(v=-0.0706, grad=0.0000)], [Var(v=-0.0011, grad=0.0000)], [Var(v=-0.2649, grad=0.0000)], [Var(v=-0.0345, grad=0.0000)], [Var(v=-0.0274, grad=0.0000)], [Var(v=0.0645, grad=0.0000)], [Var(v=-0.0250, grad=0.0000)], [Var(v=0.1111, grad=0.0000)], [Var(v=0.0702, grad=0.0000)], [Var(v=-0.0701, grad=0.0000)], [Var(v=0.0697, grad=0.0000)], [Var(v=0.1154, grad=0.0000)], [Var(v=-0.0502, grad=0.0000)], [Var(v=-0.0724, grad=0.0000)], [Var(v=0.0371, grad=0.0000)], [Var(v=-0.0645, grad=0.0000)], [Var(v=0.0536, grad=0.0000)], [Var(v=0.1220, grad=0.0000)], [Var(v=0.1639, grad=0.0000)], [Var(v=0.0327, grad=0.0000)], [Var(v=-0.1829, grad=0.0000)], [Var(v=-0.0571, grad=0.0000)]] Biases: [Var(v=0.0000, grad=-7.8080)]\n",
      "\n",
      "Network after update:\n",
      "Layer 0 \n",
      " Weights: [[Var(v=-5.1723, grad=515.7059), Var(v=-0.0588, grad=0.0000), Var(v=0.0140, grad=0.0000), Var(v=-0.0325, grad=0.0000), Var(v=-0.1017, grad=0.0000), Var(v=-0.1951, grad=0.0000), Var(v=-0.0371, grad=0.0000), Var(v=-0.0889, grad=0.0000), Var(v=-0.0560, grad=0.0000), Var(v=-0.1311, grad=0.0000), Var(v=-0.0021, grad=0.0000), Var(v=-0.0677, grad=0.0000), Var(v=-0.0711, grad=0.0000), Var(v=0.0575, grad=0.0000), Var(v=0.1219, grad=0.0000)]] Biases: [Var(v=4.4685, grad=-446.8508), Var(v=0.0000, grad=0.0000), Var(v=0.0000, grad=0.0000), Var(v=0.0000, grad=0.0000), Var(v=0.0000, grad=0.0000), Var(v=0.0000, grad=0.0000), Var(v=0.0000, grad=0.0000), Var(v=0.0000, grad=0.0000), Var(v=0.0000, grad=0.0000), Var(v=0.0000, grad=0.0000), Var(v=0.0000, grad=0.0000), Var(v=0.0000, grad=0.0000), Var(v=0.0000, grad=0.0000), Var(v=0.0000, grad=0.0000), Var(v=0.0000, grad=0.0000)]\n",
      "Layer 1 \n",
      " Weights: [[Var(v=0.9159, grad=-82.0218), Var(v=0.0766, grad=0.0000), Var(v=0.0524, grad=0.0000), Var(v=-0.0674, grad=0.0000), Var(v=-0.0958, grad=0.0000), Var(v=0.0772, grad=0.0000), Var(v=-0.0823, grad=0.0000), Var(v=-0.0470, grad=0.0000), Var(v=-0.2063, grad=0.0000), Var(v=0.1151, grad=0.0000), Var(v=0.0436, grad=0.0000), Var(v=-0.1415, grad=0.0000), Var(v=0.0013, grad=0.0000), Var(v=0.1437, grad=0.0000), Var(v=0.0885, grad=0.0000), Var(v=-0.2449, grad=0.0000), Var(v=-0.1324, grad=0.0000), Var(v=0.1398, grad=0.0000), Var(v=0.0239, grad=0.0000), Var(v=0.0517, grad=0.0000), Var(v=0.0906, grad=0.0000), Var(v=-0.0456, grad=0.0000), Var(v=0.0556, grad=0.0000), Var(v=-0.0516, grad=0.0000), Var(v=-0.1002, grad=0.0000), Var(v=-0.1282, grad=0.0000), Var(v=0.0251, grad=0.0000), Var(v=0.1704, grad=0.0000), Var(v=0.1348, grad=0.0000), Var(v=-0.0986, grad=0.0000), Var(v=-0.0358, grad=0.0000), Var(v=-0.1403, grad=0.0000), Var(v=0.0009, grad=0.0000), Var(v=-0.0262, grad=0.0000), Var(v=-0.0133, grad=0.0000), Var(v=-0.0512, grad=0.0000), Var(v=0.0113, grad=0.0000), Var(v=-0.1741, grad=0.0000), Var(v=-0.0758, grad=0.0000), Var(v=0.0915, grad=0.0000), Var(v=-0.0004, grad=0.0000), Var(v=-0.0100, grad=0.0000), Var(v=0.2271, grad=0.0000), Var(v=0.1673, grad=0.0000), Var(v=-0.0711, grad=0.0000), Var(v=0.0370, grad=0.0000), Var(v=0.0792, grad=0.0000), Var(v=0.1365, grad=0.0000), Var(v=0.0405, grad=0.0000), Var(v=0.0919, grad=0.0000)], [Var(v=-0.0241, grad=0.0000), Var(v=-0.0600, grad=0.0000), Var(v=0.0530, grad=0.0000), Var(v=0.0427, grad=0.0000), Var(v=-0.0107, grad=0.0000), Var(v=-0.0699, grad=0.0000), Var(v=-0.1055, grad=0.0000), Var(v=-0.1397, grad=0.0000), Var(v=-0.0311, grad=0.0000), Var(v=-0.1084, grad=0.0000), Var(v=-0.0408, grad=0.0000), Var(v=-0.1244, grad=0.0000), Var(v=-0.0039, grad=0.0000), Var(v=0.1280, grad=0.0000), Var(v=-0.0220, grad=0.0000), Var(v=0.0240, grad=0.0000), Var(v=0.1106, grad=0.0000), Var(v=0.0905, grad=0.0000), Var(v=0.0661, grad=0.0000), Var(v=0.1296, grad=0.0000), Var(v=0.0771, grad=0.0000), Var(v=0.2637, grad=0.0000), Var(v=-0.0603, grad=0.0000), Var(v=-0.1997, grad=0.0000), Var(v=0.1159, grad=0.0000), Var(v=0.1549, grad=0.0000), Var(v=0.0621, grad=0.0000), Var(v=-0.1481, grad=0.0000), Var(v=-0.0218, grad=0.0000), Var(v=-0.1761, grad=0.0000), Var(v=0.0999, grad=0.0000), Var(v=0.0904, grad=0.0000), Var(v=0.1760, grad=0.0000), Var(v=0.0222, grad=0.0000), Var(v=-0.1978, grad=0.0000), Var(v=0.1390, grad=0.0000), Var(v=0.0899, grad=0.0000), Var(v=-0.0642, grad=0.0000), Var(v=0.1455, grad=0.0000), Var(v=-0.0643, grad=0.0000), Var(v=0.0377, grad=0.0000), Var(v=-0.0583, grad=0.0000), Var(v=-0.1656, grad=0.0000), Var(v=0.1254, grad=0.0000), Var(v=-0.0527, grad=0.0000), Var(v=-0.0956, grad=0.0000), Var(v=0.0098, grad=0.0000), Var(v=-0.0061, grad=0.0000), Var(v=0.2174, grad=0.0000), Var(v=-0.0982, grad=0.0000)], [Var(v=-0.1132, grad=0.0000), Var(v=0.0082, grad=0.0000), Var(v=0.1844, grad=0.0000), Var(v=0.0262, grad=0.0000), Var(v=0.1321, grad=0.0000), Var(v=-0.0698, grad=0.0000), Var(v=-0.1603, grad=0.0000), Var(v=0.1222, grad=0.0000), Var(v=-0.1052, grad=0.0000), Var(v=-0.0370, grad=0.0000), Var(v=0.0532, grad=0.0000), Var(v=0.0959, grad=0.0000), Var(v=-0.0319, grad=0.0000), Var(v=-0.0194, grad=0.0000), Var(v=0.0277, grad=0.0000), Var(v=-0.1157, grad=0.0000), Var(v=0.0414, grad=0.0000), Var(v=0.0730, grad=0.0000), Var(v=-0.0541, grad=0.0000), Var(v=0.1850, grad=0.0000), Var(v=-0.1086, grad=0.0000), Var(v=0.1195, grad=0.0000), Var(v=-0.0166, grad=0.0000), Var(v=0.1205, grad=0.0000), Var(v=-0.1225, grad=0.0000), Var(v=0.0522, grad=0.0000), Var(v=0.1138, grad=0.0000), Var(v=-0.0303, grad=0.0000), Var(v=0.0200, grad=0.0000), Var(v=-0.1253, grad=0.0000), Var(v=0.1392, grad=0.0000), Var(v=-0.1055, grad=0.0000), Var(v=0.1150, grad=0.0000), Var(v=-0.0056, grad=0.0000), Var(v=-0.0999, grad=0.0000), Var(v=-0.0588, grad=0.0000), Var(v=0.0935, grad=0.0000), Var(v=-0.0137, grad=0.0000), Var(v=0.1765, grad=0.0000), Var(v=-0.0899, grad=0.0000), Var(v=0.0515, grad=0.0000), Var(v=-0.0131, grad=0.0000), Var(v=-0.0661, grad=0.0000), Var(v=-0.0642, grad=0.0000), Var(v=0.0688, grad=0.0000), Var(v=0.0515, grad=0.0000), Var(v=0.0872, grad=0.0000), Var(v=-0.0124, grad=0.0000), Var(v=0.0445, grad=0.0000), Var(v=-0.1985, grad=0.0000)], [Var(v=0.0406, grad=0.0000), Var(v=0.1829, grad=0.0000), Var(v=-0.0056, grad=0.0000), Var(v=0.0536, grad=0.0000), Var(v=0.0270, grad=0.0000), Var(v=-0.0608, grad=0.0000), Var(v=0.1466, grad=0.0000), Var(v=0.1180, grad=0.0000), Var(v=-0.0271, grad=0.0000), Var(v=-0.0747, grad=0.0000), Var(v=0.0555, grad=0.0000), Var(v=-0.1243, grad=0.0000), Var(v=-0.0584, grad=0.0000), Var(v=0.0353, grad=0.0000), Var(v=-0.1717, grad=0.0000), Var(v=-0.0329, grad=0.0000), Var(v=0.0117, grad=0.0000), Var(v=0.0048, grad=0.0000), Var(v=0.1792, grad=0.0000), Var(v=-0.1464, grad=0.0000), Var(v=0.0627, grad=0.0000), Var(v=0.0781, grad=0.0000), Var(v=0.0093, grad=0.0000), Var(v=-0.0486, grad=0.0000), Var(v=0.1218, grad=0.0000), Var(v=0.1009, grad=0.0000), Var(v=0.0767, grad=0.0000), Var(v=0.1064, grad=0.0000), Var(v=0.1249, grad=0.0000), Var(v=0.0982, grad=0.0000), Var(v=-0.0095, grad=0.0000), Var(v=0.0584, grad=0.0000), Var(v=-0.1296, grad=0.0000), Var(v=0.0708, grad=0.0000), Var(v=0.0468, grad=0.0000), Var(v=-0.0548, grad=0.0000), Var(v=-0.0840, grad=0.0000), Var(v=-0.0906, grad=0.0000), Var(v=-0.0117, grad=0.0000), Var(v=-0.1281, grad=0.0000), Var(v=-0.1028, grad=0.0000), Var(v=-0.0947, grad=0.0000), Var(v=0.0819, grad=0.0000), Var(v=-0.1618, grad=0.0000), Var(v=0.0439, grad=0.0000), Var(v=-0.1489, grad=0.0000), Var(v=-0.0780, grad=0.0000), Var(v=-0.1710, grad=0.0000), Var(v=0.0108, grad=0.0000), Var(v=0.0881, grad=0.0000)], [Var(v=0.0081, grad=0.0000), Var(v=-0.1486, grad=0.0000), Var(v=-0.2418, grad=0.0000), Var(v=0.0609, grad=0.0000), Var(v=0.0188, grad=0.0000), Var(v=0.0386, grad=0.0000), Var(v=0.0356, grad=0.0000), Var(v=0.0723, grad=0.0000), Var(v=0.1456, grad=0.0000), Var(v=0.1000, grad=0.0000), Var(v=0.0290, grad=0.0000), Var(v=-0.0522, grad=0.0000), Var(v=0.0082, grad=0.0000), Var(v=-0.1266, grad=0.0000), Var(v=-0.0163, grad=0.0000), Var(v=0.1306, grad=0.0000), Var(v=0.0683, grad=0.0000), Var(v=-0.0127, grad=0.0000), Var(v=0.0432, grad=0.0000), Var(v=-0.0102, grad=0.0000), Var(v=-0.0004, grad=0.0000), Var(v=-0.0412, grad=0.0000), Var(v=-0.1189, grad=0.0000), Var(v=-0.0457, grad=0.0000), Var(v=0.1095, grad=0.0000), Var(v=0.0263, grad=0.0000), Var(v=0.0419, grad=0.0000), Var(v=-0.1848, grad=0.0000), Var(v=-0.1569, grad=0.0000), Var(v=0.0114, grad=0.0000), Var(v=0.0010, grad=0.0000), Var(v=-0.0226, grad=0.0000), Var(v=0.0176, grad=0.0000), Var(v=-0.2135, grad=0.0000), Var(v=0.0197, grad=0.0000), Var(v=-0.0315, grad=0.0000), Var(v=0.0859, grad=0.0000), Var(v=-0.0539, grad=0.0000), Var(v=0.0337, grad=0.0000), Var(v=0.0698, grad=0.0000), Var(v=0.0323, grad=0.0000), Var(v=-0.1047, grad=0.0000), Var(v=-0.1485, grad=0.0000), Var(v=-0.0391, grad=0.0000), Var(v=-0.1097, grad=0.0000), Var(v=-0.1399, grad=0.0000), Var(v=0.0679, grad=0.0000), Var(v=-0.1166, grad=0.0000), Var(v=-0.0791, grad=0.0000), Var(v=0.0256, grad=0.0000)], [Var(v=0.1169, grad=0.0000), Var(v=-0.0341, grad=0.0000), Var(v=-0.0391, grad=0.0000), Var(v=-0.0672, grad=0.0000), Var(v=0.0045, grad=0.0000), Var(v=-0.0953, grad=0.0000), Var(v=-0.1496, grad=0.0000), Var(v=-0.0660, grad=0.0000), Var(v=-0.0251, grad=0.0000), Var(v=0.0392, grad=0.0000), Var(v=0.1110, grad=0.0000), Var(v=-0.0224, grad=0.0000), Var(v=-0.1842, grad=0.0000), Var(v=0.0541, grad=0.0000), Var(v=0.0535, grad=0.0000), Var(v=0.0109, grad=0.0000), Var(v=-0.1017, grad=0.0000), Var(v=-0.1113, grad=0.0000), Var(v=0.0935, grad=0.0000), Var(v=-0.1535, grad=0.0000), Var(v=-0.0896, grad=0.0000), Var(v=-0.0242, grad=0.0000), Var(v=-0.0033, grad=0.0000), Var(v=0.1433, grad=0.0000), Var(v=0.0078, grad=0.0000), Var(v=-0.1237, grad=0.0000), Var(v=-0.0642, grad=0.0000), Var(v=-0.2540, grad=0.0000), Var(v=0.0318, grad=0.0000), Var(v=0.1700, grad=0.0000), Var(v=-0.1364, grad=0.0000), Var(v=-0.1236, grad=0.0000), Var(v=-0.0815, grad=0.0000), Var(v=0.1008, grad=0.0000), Var(v=0.1029, grad=0.0000), Var(v=0.1111, grad=0.0000), Var(v=-0.0532, grad=0.0000), Var(v=-0.1234, grad=0.0000), Var(v=0.0212, grad=0.0000), Var(v=-0.1772, grad=0.0000), Var(v=-0.0130, grad=0.0000), Var(v=-0.0907, grad=0.0000), Var(v=-0.0431, grad=0.0000), Var(v=-0.0108, grad=0.0000), Var(v=0.0438, grad=0.0000), Var(v=0.0986, grad=0.0000), Var(v=-0.0341, grad=0.0000), Var(v=-0.2053, grad=0.0000), Var(v=-0.1517, grad=0.0000), Var(v=-0.0840, grad=0.0000)], [Var(v=-0.0020, grad=0.0000), Var(v=0.0768, grad=0.0000), Var(v=-0.0243, grad=0.0000), Var(v=-0.0588, grad=0.0000), Var(v=0.0696, grad=0.0000), Var(v=0.0686, grad=0.0000), Var(v=-0.1277, grad=0.0000), Var(v=0.0716, grad=0.0000), Var(v=-0.0287, grad=0.0000), Var(v=-0.1052, grad=0.0000), Var(v=0.1135, grad=0.0000), Var(v=-0.0047, grad=0.0000), Var(v=0.0273, grad=0.0000), Var(v=-0.0365, grad=0.0000), Var(v=0.0053, grad=0.0000), Var(v=-0.1667, grad=0.0000), Var(v=0.1176, grad=0.0000), Var(v=-0.0335, grad=0.0000), Var(v=0.1693, grad=0.0000), Var(v=-0.0202, grad=0.0000), Var(v=0.0437, grad=0.0000), Var(v=0.1573, grad=0.0000), Var(v=-0.1310, grad=0.0000), Var(v=0.0562, grad=0.0000), Var(v=0.0643, grad=0.0000), Var(v=-0.0874, grad=0.0000), Var(v=0.0797, grad=0.0000), Var(v=0.0515, grad=0.0000), Var(v=0.0789, grad=0.0000), Var(v=0.0663, grad=0.0000), Var(v=0.0288, grad=0.0000), Var(v=0.1265, grad=0.0000), Var(v=0.0754, grad=0.0000), Var(v=0.0311, grad=0.0000), Var(v=0.0300, grad=0.0000), Var(v=-0.0447, grad=0.0000), Var(v=-0.1682, grad=0.0000), Var(v=0.0658, grad=0.0000), Var(v=-0.2457, grad=0.0000), Var(v=0.1366, grad=0.0000), Var(v=0.1817, grad=0.0000), Var(v=0.0341, grad=0.0000), Var(v=0.1063, grad=0.0000), Var(v=0.0342, grad=0.0000), Var(v=-0.0006, grad=0.0000), Var(v=0.0169, grad=0.0000), Var(v=0.0996, grad=0.0000), Var(v=0.0754, grad=0.0000), Var(v=0.1797, grad=0.0000), Var(v=-0.1273, grad=0.0000)], [Var(v=0.0888, grad=0.0000), Var(v=0.1654, grad=0.0000), Var(v=0.0899, grad=0.0000), Var(v=-0.0292, grad=0.0000), Var(v=-0.0760, grad=0.0000), Var(v=-0.0901, grad=0.0000), Var(v=0.1953, grad=0.0000), Var(v=0.1039, grad=0.0000), Var(v=0.0283, grad=0.0000), Var(v=-0.0172, grad=0.0000), Var(v=-0.0875, grad=0.0000), Var(v=0.0325, grad=0.0000), Var(v=0.1274, grad=0.0000), Var(v=0.1592, grad=0.0000), Var(v=0.1724, grad=0.0000), Var(v=0.0588, grad=0.0000), Var(v=-0.0735, grad=0.0000), Var(v=-0.0349, grad=0.0000), Var(v=0.0010, grad=0.0000), Var(v=0.0179, grad=0.0000), Var(v=0.0440, grad=0.0000), Var(v=0.0411, grad=0.0000), Var(v=-0.1306, grad=0.0000), Var(v=-0.1414, grad=0.0000), Var(v=0.0501, grad=0.0000), Var(v=0.0330, grad=0.0000), Var(v=0.2265, grad=0.0000), Var(v=-0.0941, grad=0.0000), Var(v=0.0168, grad=0.0000), Var(v=-0.0968, grad=0.0000), Var(v=0.0017, grad=0.0000), Var(v=0.1139, grad=0.0000), Var(v=-0.1253, grad=0.0000), Var(v=-0.0921, grad=0.0000), Var(v=-0.0296, grad=0.0000), Var(v=-0.0134, grad=0.0000), Var(v=-0.0487, grad=0.0000), Var(v=0.0078, grad=0.0000), Var(v=-0.1439, grad=0.0000), Var(v=0.0763, grad=0.0000), Var(v=0.1128, grad=0.0000), Var(v=-0.0492, grad=0.0000), Var(v=0.0137, grad=0.0000), Var(v=0.0556, grad=0.0000), Var(v=-0.0022, grad=0.0000), Var(v=-0.1002, grad=0.0000), Var(v=-0.1189, grad=0.0000), Var(v=-0.0445, grad=0.0000), Var(v=-0.0328, grad=0.0000), Var(v=0.1496, grad=0.0000)], [Var(v=0.0149, grad=0.0000), Var(v=0.1287, grad=0.0000), Var(v=0.1393, grad=0.0000), Var(v=0.0823, grad=0.0000), Var(v=-0.1435, grad=0.0000), Var(v=0.1072, grad=0.0000), Var(v=0.0501, grad=0.0000), Var(v=0.1295, grad=0.0000), Var(v=-0.1065, grad=0.0000), Var(v=-0.1260, grad=0.0000), Var(v=-0.0308, grad=0.0000), Var(v=-0.1700, grad=0.0000), Var(v=-0.1077, grad=0.0000), Var(v=0.0359, grad=0.0000), Var(v=-0.0222, grad=0.0000), Var(v=0.0026, grad=0.0000), Var(v=-0.0614, grad=0.0000), Var(v=-0.0620, grad=0.0000), Var(v=0.1003, grad=0.0000), Var(v=0.0890, grad=0.0000), Var(v=0.1275, grad=0.0000), Var(v=0.0705, grad=0.0000), Var(v=0.1178, grad=0.0000), Var(v=0.0490, grad=0.0000), Var(v=0.0884, grad=0.0000), Var(v=-0.1013, grad=0.0000), Var(v=-0.0718, grad=0.0000), Var(v=0.1672, grad=0.0000), Var(v=-0.0326, grad=0.0000), Var(v=-0.0986, grad=0.0000), Var(v=0.0367, grad=0.0000), Var(v=0.0517, grad=0.0000), Var(v=0.1424, grad=0.0000), Var(v=0.0875, grad=0.0000), Var(v=0.1395, grad=0.0000), Var(v=0.0096, grad=0.0000), Var(v=-0.0063, grad=0.0000), Var(v=0.0784, grad=0.0000), Var(v=0.0481, grad=0.0000), Var(v=-0.0145, grad=0.0000), Var(v=-0.0646, grad=0.0000), Var(v=0.0367, grad=0.0000), Var(v=-0.1281, grad=0.0000), Var(v=-0.0438, grad=0.0000), Var(v=-0.0177, grad=0.0000), Var(v=0.0766, grad=0.0000), Var(v=-0.0548, grad=0.0000), Var(v=0.0390, grad=0.0000), Var(v=0.0662, grad=0.0000), Var(v=-0.0410, grad=0.0000)], [Var(v=-0.1354, grad=0.0000), Var(v=0.1141, grad=0.0000), Var(v=-0.1022, grad=0.0000), Var(v=0.0015, grad=0.0000), Var(v=0.1044, grad=0.0000), Var(v=-0.0091, grad=0.0000), Var(v=0.0294, grad=0.0000), Var(v=0.0614, grad=0.0000), Var(v=-0.0681, grad=0.0000), Var(v=-0.0970, grad=0.0000), Var(v=0.0836, grad=0.0000), Var(v=-0.0246, grad=0.0000), Var(v=0.0691, grad=0.0000), Var(v=-0.0265, grad=0.0000), Var(v=-0.0861, grad=0.0000), Var(v=-0.0263, grad=0.0000), Var(v=-0.0344, grad=0.0000), Var(v=0.0546, grad=0.0000), Var(v=0.1100, grad=0.0000), Var(v=0.0500, grad=0.0000), Var(v=0.1762, grad=0.0000), Var(v=0.0084, grad=0.0000), Var(v=0.1150, grad=0.0000), Var(v=-0.0390, grad=0.0000), Var(v=0.0071, grad=0.0000), Var(v=-0.0763, grad=0.0000), Var(v=-0.1459, grad=0.0000), Var(v=-0.0594, grad=0.0000), Var(v=0.0919, grad=0.0000), Var(v=-0.0386, grad=0.0000), Var(v=0.1659, grad=0.0000), Var(v=-0.0911, grad=0.0000), Var(v=-0.0408, grad=0.0000), Var(v=0.0603, grad=0.0000), Var(v=0.2179, grad=0.0000), Var(v=-0.0123, grad=0.0000), Var(v=-0.0613, grad=0.0000), Var(v=-0.0493, grad=0.0000), Var(v=-0.0335, grad=0.0000), Var(v=0.2212, grad=0.0000), Var(v=0.0284, grad=0.0000), Var(v=0.0131, grad=0.0000), Var(v=-0.0138, grad=0.0000), Var(v=-0.0396, grad=0.0000), Var(v=0.1169, grad=0.0000), Var(v=-0.0524, grad=0.0000), Var(v=-0.0321, grad=0.0000), Var(v=-0.1978, grad=0.0000), Var(v=0.0639, grad=0.0000), Var(v=0.0395, grad=0.0000)], [Var(v=0.1392, grad=0.0000), Var(v=0.0147, grad=0.0000), Var(v=0.0527, grad=0.0000), Var(v=0.0347, grad=0.0000), Var(v=-0.0087, grad=0.0000), Var(v=0.2037, grad=0.0000), Var(v=-0.0980, grad=0.0000), Var(v=-0.0765, grad=0.0000), Var(v=-0.0783, grad=0.0000), Var(v=0.0460, grad=0.0000), Var(v=-0.1008, grad=0.0000), Var(v=0.0654, grad=0.0000), Var(v=0.0341, grad=0.0000), Var(v=-0.0694, grad=0.0000), Var(v=0.0281, grad=0.0000), Var(v=0.0140, grad=0.0000), Var(v=0.1113, grad=0.0000), Var(v=-0.0838, grad=0.0000), Var(v=0.0616, grad=0.0000), Var(v=0.1149, grad=0.0000), Var(v=-0.1113, grad=0.0000), Var(v=0.1274, grad=0.0000), Var(v=0.2023, grad=0.0000), Var(v=0.2356, grad=0.0000), Var(v=-0.1348, grad=0.0000), Var(v=-0.0774, grad=0.0000), Var(v=-0.0799, grad=0.0000), Var(v=-0.0045, grad=0.0000), Var(v=-0.0026, grad=0.0000), Var(v=-0.0507, grad=0.0000), Var(v=0.0824, grad=0.0000), Var(v=-0.0330, grad=0.0000), Var(v=0.0652, grad=0.0000), Var(v=0.0660, grad=0.0000), Var(v=0.0159, grad=0.0000), Var(v=0.0289, grad=0.0000), Var(v=-0.0176, grad=0.0000), Var(v=0.0199, grad=0.0000), Var(v=-0.1727, grad=0.0000), Var(v=-0.0558, grad=0.0000), Var(v=-0.0482, grad=0.0000), Var(v=-0.0463, grad=0.0000), Var(v=0.0430, grad=0.0000), Var(v=-0.1528, grad=0.0000), Var(v=0.1527, grad=0.0000), Var(v=-0.0609, grad=0.0000), Var(v=0.2921, grad=0.0000), Var(v=0.1053, grad=0.0000), Var(v=-0.0722, grad=0.0000), Var(v=0.0934, grad=0.0000)], [Var(v=-0.0338, grad=0.0000), Var(v=-0.0379, grad=0.0000), Var(v=0.0721, grad=0.0000), Var(v=-0.0531, grad=0.0000), Var(v=-0.1879, grad=0.0000), Var(v=-0.0322, grad=0.0000), Var(v=-0.1353, grad=0.0000), Var(v=-0.0317, grad=0.0000), Var(v=-0.0482, grad=0.0000), Var(v=-0.1473, grad=0.0000), Var(v=0.0467, grad=0.0000), Var(v=-0.0067, grad=0.0000), Var(v=-0.0951, grad=0.0000), Var(v=0.0649, grad=0.0000), Var(v=-0.0981, grad=0.0000), Var(v=0.0684, grad=0.0000), Var(v=0.0423, grad=0.0000), Var(v=0.0004, grad=0.0000), Var(v=0.0950, grad=0.0000), Var(v=0.1032, grad=0.0000), Var(v=-0.0006, grad=0.0000), Var(v=0.0205, grad=0.0000), Var(v=0.1553, grad=0.0000), Var(v=0.0547, grad=0.0000), Var(v=-0.1066, grad=0.0000), Var(v=-0.0084, grad=0.0000), Var(v=-0.0420, grad=0.0000), Var(v=-0.0238, grad=0.0000), Var(v=0.0320, grad=0.0000), Var(v=-0.0557, grad=0.0000), Var(v=-0.0532, grad=0.0000), Var(v=-0.0738, grad=0.0000), Var(v=0.0025, grad=0.0000), Var(v=-0.2228, grad=0.0000), Var(v=-0.0031, grad=0.0000), Var(v=-0.1086, grad=0.0000), Var(v=-0.0132, grad=0.0000), Var(v=-0.0307, grad=0.0000), Var(v=-0.0661, grad=0.0000), Var(v=-0.0138, grad=0.0000), Var(v=-0.1111, grad=0.0000), Var(v=0.1116, grad=0.0000), Var(v=0.0681, grad=0.0000), Var(v=0.0929, grad=0.0000), Var(v=-0.0561, grad=0.0000), Var(v=0.1358, grad=0.0000), Var(v=0.0185, grad=0.0000), Var(v=-0.0489, grad=0.0000), Var(v=-0.2566, grad=0.0000), Var(v=0.0841, grad=0.0000)], [Var(v=-0.1779, grad=0.0000), Var(v=-0.0165, grad=0.0000), Var(v=-0.2587, grad=0.0000), Var(v=-0.0677, grad=0.0000), Var(v=0.1192, grad=0.0000), Var(v=-0.0354, grad=0.0000), Var(v=0.2020, grad=0.0000), Var(v=0.0203, grad=0.0000), Var(v=0.0157, grad=0.0000), Var(v=0.0703, grad=0.0000), Var(v=0.1376, grad=0.0000), Var(v=-0.1757, grad=0.0000), Var(v=0.1539, grad=0.0000), Var(v=0.0441, grad=0.0000), Var(v=-0.1769, grad=0.0000), Var(v=0.1035, grad=0.0000), Var(v=0.0727, grad=0.0000), Var(v=-0.1691, grad=0.0000), Var(v=-0.0218, grad=0.0000), Var(v=0.0237, grad=0.0000), Var(v=-0.1228, grad=0.0000), Var(v=0.1546, grad=0.0000), Var(v=0.1120, grad=0.0000), Var(v=0.0593, grad=0.0000), Var(v=-0.0672, grad=0.0000), Var(v=0.0003, grad=0.0000), Var(v=0.1232, grad=0.0000), Var(v=-0.0587, grad=0.0000), Var(v=0.1417, grad=0.0000), Var(v=0.0460, grad=0.0000), Var(v=0.0754, grad=0.0000), Var(v=-0.1211, grad=0.0000), Var(v=0.1331, grad=0.0000), Var(v=-0.0207, grad=0.0000), Var(v=-0.1398, grad=0.0000), Var(v=-0.0159, grad=0.0000), Var(v=0.1367, grad=0.0000), Var(v=-0.1425, grad=0.0000), Var(v=0.0618, grad=0.0000), Var(v=-0.0076, grad=0.0000), Var(v=0.0857, grad=0.0000), Var(v=0.0484, grad=0.0000), Var(v=-0.0889, grad=0.0000), Var(v=-0.0125, grad=0.0000), Var(v=0.0166, grad=0.0000), Var(v=-0.0322, grad=0.0000), Var(v=-0.0404, grad=0.0000), Var(v=-0.1002, grad=0.0000), Var(v=-0.1758, grad=0.0000), Var(v=-0.0777, grad=0.0000)], [Var(v=-0.0038, grad=0.0000), Var(v=0.0754, grad=0.0000), Var(v=-0.1233, grad=0.0000), Var(v=0.0956, grad=0.0000), Var(v=-0.0560, grad=0.0000), Var(v=-0.0334, grad=0.0000), Var(v=-0.0589, grad=0.0000), Var(v=0.0432, grad=0.0000), Var(v=-0.0700, grad=0.0000), Var(v=-0.1383, grad=0.0000), Var(v=0.0764, grad=0.0000), Var(v=-0.0161, grad=0.0000), Var(v=-0.0558, grad=0.0000), Var(v=0.0154, grad=0.0000), Var(v=0.0685, grad=0.0000), Var(v=0.0356, grad=0.0000), Var(v=0.0175, grad=0.0000), Var(v=-0.1549, grad=0.0000), Var(v=0.1781, grad=0.0000), Var(v=0.0110, grad=0.0000), Var(v=0.0272, grad=0.0000), Var(v=-0.1037, grad=0.0000), Var(v=0.0006, grad=0.0000), Var(v=0.0849, grad=0.0000), Var(v=-0.0616, grad=0.0000), Var(v=0.0446, grad=0.0000), Var(v=0.0398, grad=0.0000), Var(v=0.0067, grad=0.0000), Var(v=0.0715, grad=0.0000), Var(v=-0.0221, grad=0.0000), Var(v=0.0578, grad=0.0000), Var(v=-0.0868, grad=0.0000), Var(v=-0.2501, grad=0.0000), Var(v=-0.0620, grad=0.0000), Var(v=0.0310, grad=0.0000), Var(v=0.0557, grad=0.0000), Var(v=0.0794, grad=0.0000), Var(v=-0.0089, grad=0.0000), Var(v=0.1534, grad=0.0000), Var(v=0.0044, grad=0.0000), Var(v=0.2140, grad=0.0000), Var(v=-0.0106, grad=0.0000), Var(v=-0.2502, grad=0.0000), Var(v=0.0865, grad=0.0000), Var(v=0.1146, grad=0.0000), Var(v=0.2186, grad=0.0000), Var(v=-0.1205, grad=0.0000), Var(v=-0.0315, grad=0.0000), Var(v=-0.0850, grad=0.0000), Var(v=-0.1100, grad=0.0000)], [Var(v=-0.0149, grad=0.0000), Var(v=-0.0293, grad=0.0000), Var(v=0.0177, grad=0.0000), Var(v=-0.1374, grad=0.0000), Var(v=0.0153, grad=0.0000), Var(v=-0.0638, grad=0.0000), Var(v=-0.0156, grad=0.0000), Var(v=0.0498, grad=0.0000), Var(v=-0.1377, grad=0.0000), Var(v=0.1218, grad=0.0000), Var(v=-0.0236, grad=0.0000), Var(v=-0.0115, grad=0.0000), Var(v=0.0474, grad=0.0000), Var(v=-0.0258, grad=0.0000), Var(v=-0.0233, grad=0.0000), Var(v=0.2529, grad=0.0000), Var(v=-0.0211, grad=0.0000), Var(v=0.0785, grad=0.0000), Var(v=0.0392, grad=0.0000), Var(v=0.1730, grad=0.0000), Var(v=-0.1368, grad=0.0000), Var(v=-0.0942, grad=0.0000), Var(v=-0.1854, grad=0.0000), Var(v=-0.1295, grad=0.0000), Var(v=-0.1164, grad=0.0000), Var(v=0.0898, grad=0.0000), Var(v=-0.0467, grad=0.0000), Var(v=-0.0499, grad=0.0000), Var(v=0.0444, grad=0.0000), Var(v=-0.0053, grad=0.0000), Var(v=0.1920, grad=0.0000), Var(v=-0.1139, grad=0.0000), Var(v=-0.2680, grad=0.0000), Var(v=0.0032, grad=0.0000), Var(v=0.2661, grad=0.0000), Var(v=-0.0268, grad=0.0000), Var(v=0.0218, grad=0.0000), Var(v=-0.0427, grad=0.0000), Var(v=0.2412, grad=0.0000), Var(v=-0.2072, grad=0.0000), Var(v=0.0402, grad=0.0000), Var(v=-0.0859, grad=0.0000), Var(v=-0.0545, grad=0.0000), Var(v=0.0541, grad=0.0000), Var(v=0.1030, grad=0.0000), Var(v=-0.0275, grad=0.0000), Var(v=-0.0598, grad=0.0000), Var(v=-0.0279, grad=0.0000), Var(v=-0.0863, grad=0.0000), Var(v=0.0950, grad=0.0000)]] Biases: [Var(v=3.1119, grad=-311.1884), Var(v=0.0000, grad=0.0000), Var(v=0.0000, grad=0.0000), Var(v=0.0000, grad=0.0000), Var(v=0.0000, grad=0.0000), Var(v=0.0000, grad=0.0000), Var(v=0.0000, grad=0.0000), Var(v=0.0000, grad=0.0000), Var(v=0.0000, grad=0.0000), Var(v=0.0000, grad=0.0000), Var(v=0.0000, grad=0.0000), Var(v=0.0000, grad=0.0000), Var(v=0.0000, grad=0.0000), Var(v=0.0000, grad=0.0000), Var(v=0.0000, grad=0.0000), Var(v=0.0000, grad=0.0000), Var(v=0.0000, grad=0.0000), Var(v=0.0000, grad=0.0000), Var(v=0.0000, grad=0.0000), Var(v=0.0000, grad=0.0000), Var(v=0.0000, grad=0.0000), Var(v=0.0000, grad=0.0000), Var(v=0.0000, grad=0.0000), Var(v=0.0000, grad=0.0000), Var(v=0.0000, grad=0.0000), Var(v=0.0000, grad=0.0000), Var(v=0.0000, grad=0.0000), Var(v=0.0000, grad=0.0000), Var(v=0.0000, grad=0.0000), Var(v=0.0000, grad=0.0000), Var(v=0.0000, grad=0.0000), Var(v=0.0000, grad=0.0000), Var(v=0.0000, grad=0.0000), Var(v=0.0000, grad=0.0000), Var(v=0.0000, grad=0.0000), Var(v=0.0000, grad=0.0000), Var(v=0.0000, grad=0.0000), Var(v=0.0000, grad=0.0000), Var(v=0.0000, grad=0.0000), Var(v=0.0000, grad=0.0000), Var(v=0.0000, grad=0.0000), Var(v=0.0000, grad=0.0000), Var(v=0.0000, grad=0.0000), Var(v=0.0000, grad=0.0000), Var(v=0.0000, grad=0.0000), Var(v=0.0000, grad=0.0000), Var(v=0.0000, grad=0.0000), Var(v=0.0000, grad=0.0000), Var(v=0.0000, grad=0.0000), Var(v=0.0000, grad=0.0000)]\n",
      "Layer 2 \n",
      " Weights: [[Var(v=-1.0693, grad=99.0008)], [Var(v=0.1573, grad=0.0000)], [Var(v=0.0872, grad=0.0000)], [Var(v=-0.3458, grad=0.0000)], [Var(v=0.0767, grad=0.0000)], [Var(v=-0.2091, grad=0.0000)], [Var(v=0.0463, grad=0.0000)], [Var(v=0.0282, grad=0.0000)], [Var(v=-0.0155, grad=0.0000)], [Var(v=-0.0268, grad=0.0000)], [Var(v=0.0291, grad=0.0000)], [Var(v=0.0518, grad=0.0000)], [Var(v=-0.0448, grad=0.0000)], [Var(v=0.0370, grad=0.0000)], [Var(v=0.0362, grad=0.0000)], [Var(v=-0.1648, grad=0.0000)], [Var(v=0.0425, grad=0.0000)], [Var(v=0.1210, grad=0.0000)], [Var(v=0.0788, grad=0.0000)], [Var(v=0.1317, grad=0.0000)], [Var(v=0.0123, grad=0.0000)], [Var(v=-0.0326, grad=0.0000)], [Var(v=-0.0017, grad=0.0000)], [Var(v=-0.1932, grad=0.0000)], [Var(v=0.0281, grad=0.0000)], [Var(v=0.0025, grad=0.0000)], [Var(v=-0.1259, grad=0.0000)], [Var(v=0.1825, grad=0.0000)], [Var(v=-0.0706, grad=0.0000)], [Var(v=-0.0011, grad=0.0000)], [Var(v=-0.2649, grad=0.0000)], [Var(v=-0.0345, grad=0.0000)], [Var(v=-0.0274, grad=0.0000)], [Var(v=0.0645, grad=0.0000)], [Var(v=-0.0250, grad=0.0000)], [Var(v=0.1111, grad=0.0000)], [Var(v=0.0702, grad=0.0000)], [Var(v=-0.0701, grad=0.0000)], [Var(v=0.0697, grad=0.0000)], [Var(v=0.1154, grad=0.0000)], [Var(v=-0.0502, grad=0.0000)], [Var(v=-0.0724, grad=0.0000)], [Var(v=0.0371, grad=0.0000)], [Var(v=-0.0645, grad=0.0000)], [Var(v=0.0536, grad=0.0000)], [Var(v=0.1220, grad=0.0000)], [Var(v=0.1639, grad=0.0000)], [Var(v=0.0327, grad=0.0000)], [Var(v=-0.1829, grad=0.0000)], [Var(v=-0.0571, grad=0.0000)]] Biases: [Var(v=0.0781, grad=-7.8080)]\n",
      "\n",
      "Network after zeroing gradients:\n",
      "Layer 0 \n",
      " Weights: [[Var(v=-5.1723, grad=0.0000), Var(v=-0.0588, grad=0.0000), Var(v=0.0140, grad=0.0000), Var(v=-0.0325, grad=0.0000), Var(v=-0.1017, grad=0.0000), Var(v=-0.1951, grad=0.0000), Var(v=-0.0371, grad=0.0000), Var(v=-0.0889, grad=0.0000), Var(v=-0.0560, grad=0.0000), Var(v=-0.1311, grad=0.0000), Var(v=-0.0021, grad=0.0000), Var(v=-0.0677, grad=0.0000), Var(v=-0.0711, grad=0.0000), Var(v=0.0575, grad=0.0000), Var(v=0.1219, grad=0.0000)]] Biases: [Var(v=4.4685, grad=0.0000), Var(v=0.0000, grad=0.0000), Var(v=0.0000, grad=0.0000), Var(v=0.0000, grad=0.0000), Var(v=0.0000, grad=0.0000), Var(v=0.0000, grad=0.0000), Var(v=0.0000, grad=0.0000), Var(v=0.0000, grad=0.0000), Var(v=0.0000, grad=0.0000), Var(v=0.0000, grad=0.0000), Var(v=0.0000, grad=0.0000), Var(v=0.0000, grad=0.0000), Var(v=0.0000, grad=0.0000), Var(v=0.0000, grad=0.0000), Var(v=0.0000, grad=0.0000)]\n",
      "Layer 1 \n",
      " Weights: [[Var(v=0.9159, grad=0.0000), Var(v=0.0766, grad=0.0000), Var(v=0.0524, grad=0.0000), Var(v=-0.0674, grad=0.0000), Var(v=-0.0958, grad=0.0000), Var(v=0.0772, grad=0.0000), Var(v=-0.0823, grad=0.0000), Var(v=-0.0470, grad=0.0000), Var(v=-0.2063, grad=0.0000), Var(v=0.1151, grad=0.0000), Var(v=0.0436, grad=0.0000), Var(v=-0.1415, grad=0.0000), Var(v=0.0013, grad=0.0000), Var(v=0.1437, grad=0.0000), Var(v=0.0885, grad=0.0000), Var(v=-0.2449, grad=0.0000), Var(v=-0.1324, grad=0.0000), Var(v=0.1398, grad=0.0000), Var(v=0.0239, grad=0.0000), Var(v=0.0517, grad=0.0000), Var(v=0.0906, grad=0.0000), Var(v=-0.0456, grad=0.0000), Var(v=0.0556, grad=0.0000), Var(v=-0.0516, grad=0.0000), Var(v=-0.1002, grad=0.0000), Var(v=-0.1282, grad=0.0000), Var(v=0.0251, grad=0.0000), Var(v=0.1704, grad=0.0000), Var(v=0.1348, grad=0.0000), Var(v=-0.0986, grad=0.0000), Var(v=-0.0358, grad=0.0000), Var(v=-0.1403, grad=0.0000), Var(v=0.0009, grad=0.0000), Var(v=-0.0262, grad=0.0000), Var(v=-0.0133, grad=0.0000), Var(v=-0.0512, grad=0.0000), Var(v=0.0113, grad=0.0000), Var(v=-0.1741, grad=0.0000), Var(v=-0.0758, grad=0.0000), Var(v=0.0915, grad=0.0000), Var(v=-0.0004, grad=0.0000), Var(v=-0.0100, grad=0.0000), Var(v=0.2271, grad=0.0000), Var(v=0.1673, grad=0.0000), Var(v=-0.0711, grad=0.0000), Var(v=0.0370, grad=0.0000), Var(v=0.0792, grad=0.0000), Var(v=0.1365, grad=0.0000), Var(v=0.0405, grad=0.0000), Var(v=0.0919, grad=0.0000)], [Var(v=-0.0241, grad=0.0000), Var(v=-0.0600, grad=0.0000), Var(v=0.0530, grad=0.0000), Var(v=0.0427, grad=0.0000), Var(v=-0.0107, grad=0.0000), Var(v=-0.0699, grad=0.0000), Var(v=-0.1055, grad=0.0000), Var(v=-0.1397, grad=0.0000), Var(v=-0.0311, grad=0.0000), Var(v=-0.1084, grad=0.0000), Var(v=-0.0408, grad=0.0000), Var(v=-0.1244, grad=0.0000), Var(v=-0.0039, grad=0.0000), Var(v=0.1280, grad=0.0000), Var(v=-0.0220, grad=0.0000), Var(v=0.0240, grad=0.0000), Var(v=0.1106, grad=0.0000), Var(v=0.0905, grad=0.0000), Var(v=0.0661, grad=0.0000), Var(v=0.1296, grad=0.0000), Var(v=0.0771, grad=0.0000), Var(v=0.2637, grad=0.0000), Var(v=-0.0603, grad=0.0000), Var(v=-0.1997, grad=0.0000), Var(v=0.1159, grad=0.0000), Var(v=0.1549, grad=0.0000), Var(v=0.0621, grad=0.0000), Var(v=-0.1481, grad=0.0000), Var(v=-0.0218, grad=0.0000), Var(v=-0.1761, grad=0.0000), Var(v=0.0999, grad=0.0000), Var(v=0.0904, grad=0.0000), Var(v=0.1760, grad=0.0000), Var(v=0.0222, grad=0.0000), Var(v=-0.1978, grad=0.0000), Var(v=0.1390, grad=0.0000), Var(v=0.0899, grad=0.0000), Var(v=-0.0642, grad=0.0000), Var(v=0.1455, grad=0.0000), Var(v=-0.0643, grad=0.0000), Var(v=0.0377, grad=0.0000), Var(v=-0.0583, grad=0.0000), Var(v=-0.1656, grad=0.0000), Var(v=0.1254, grad=0.0000), Var(v=-0.0527, grad=0.0000), Var(v=-0.0956, grad=0.0000), Var(v=0.0098, grad=0.0000), Var(v=-0.0061, grad=0.0000), Var(v=0.2174, grad=0.0000), Var(v=-0.0982, grad=0.0000)], [Var(v=-0.1132, grad=0.0000), Var(v=0.0082, grad=0.0000), Var(v=0.1844, grad=0.0000), Var(v=0.0262, grad=0.0000), Var(v=0.1321, grad=0.0000), Var(v=-0.0698, grad=0.0000), Var(v=-0.1603, grad=0.0000), Var(v=0.1222, grad=0.0000), Var(v=-0.1052, grad=0.0000), Var(v=-0.0370, grad=0.0000), Var(v=0.0532, grad=0.0000), Var(v=0.0959, grad=0.0000), Var(v=-0.0319, grad=0.0000), Var(v=-0.0194, grad=0.0000), Var(v=0.0277, grad=0.0000), Var(v=-0.1157, grad=0.0000), Var(v=0.0414, grad=0.0000), Var(v=0.0730, grad=0.0000), Var(v=-0.0541, grad=0.0000), Var(v=0.1850, grad=0.0000), Var(v=-0.1086, grad=0.0000), Var(v=0.1195, grad=0.0000), Var(v=-0.0166, grad=0.0000), Var(v=0.1205, grad=0.0000), Var(v=-0.1225, grad=0.0000), Var(v=0.0522, grad=0.0000), Var(v=0.1138, grad=0.0000), Var(v=-0.0303, grad=0.0000), Var(v=0.0200, grad=0.0000), Var(v=-0.1253, grad=0.0000), Var(v=0.1392, grad=0.0000), Var(v=-0.1055, grad=0.0000), Var(v=0.1150, grad=0.0000), Var(v=-0.0056, grad=0.0000), Var(v=-0.0999, grad=0.0000), Var(v=-0.0588, grad=0.0000), Var(v=0.0935, grad=0.0000), Var(v=-0.0137, grad=0.0000), Var(v=0.1765, grad=0.0000), Var(v=-0.0899, grad=0.0000), Var(v=0.0515, grad=0.0000), Var(v=-0.0131, grad=0.0000), Var(v=-0.0661, grad=0.0000), Var(v=-0.0642, grad=0.0000), Var(v=0.0688, grad=0.0000), Var(v=0.0515, grad=0.0000), Var(v=0.0872, grad=0.0000), Var(v=-0.0124, grad=0.0000), Var(v=0.0445, grad=0.0000), Var(v=-0.1985, grad=0.0000)], [Var(v=0.0406, grad=0.0000), Var(v=0.1829, grad=0.0000), Var(v=-0.0056, grad=0.0000), Var(v=0.0536, grad=0.0000), Var(v=0.0270, grad=0.0000), Var(v=-0.0608, grad=0.0000), Var(v=0.1466, grad=0.0000), Var(v=0.1180, grad=0.0000), Var(v=-0.0271, grad=0.0000), Var(v=-0.0747, grad=0.0000), Var(v=0.0555, grad=0.0000), Var(v=-0.1243, grad=0.0000), Var(v=-0.0584, grad=0.0000), Var(v=0.0353, grad=0.0000), Var(v=-0.1717, grad=0.0000), Var(v=-0.0329, grad=0.0000), Var(v=0.0117, grad=0.0000), Var(v=0.0048, grad=0.0000), Var(v=0.1792, grad=0.0000), Var(v=-0.1464, grad=0.0000), Var(v=0.0627, grad=0.0000), Var(v=0.0781, grad=0.0000), Var(v=0.0093, grad=0.0000), Var(v=-0.0486, grad=0.0000), Var(v=0.1218, grad=0.0000), Var(v=0.1009, grad=0.0000), Var(v=0.0767, grad=0.0000), Var(v=0.1064, grad=0.0000), Var(v=0.1249, grad=0.0000), Var(v=0.0982, grad=0.0000), Var(v=-0.0095, grad=0.0000), Var(v=0.0584, grad=0.0000), Var(v=-0.1296, grad=0.0000), Var(v=0.0708, grad=0.0000), Var(v=0.0468, grad=0.0000), Var(v=-0.0548, grad=0.0000), Var(v=-0.0840, grad=0.0000), Var(v=-0.0906, grad=0.0000), Var(v=-0.0117, grad=0.0000), Var(v=-0.1281, grad=0.0000), Var(v=-0.1028, grad=0.0000), Var(v=-0.0947, grad=0.0000), Var(v=0.0819, grad=0.0000), Var(v=-0.1618, grad=0.0000), Var(v=0.0439, grad=0.0000), Var(v=-0.1489, grad=0.0000), Var(v=-0.0780, grad=0.0000), Var(v=-0.1710, grad=0.0000), Var(v=0.0108, grad=0.0000), Var(v=0.0881, grad=0.0000)], [Var(v=0.0081, grad=0.0000), Var(v=-0.1486, grad=0.0000), Var(v=-0.2418, grad=0.0000), Var(v=0.0609, grad=0.0000), Var(v=0.0188, grad=0.0000), Var(v=0.0386, grad=0.0000), Var(v=0.0356, grad=0.0000), Var(v=0.0723, grad=0.0000), Var(v=0.1456, grad=0.0000), Var(v=0.1000, grad=0.0000), Var(v=0.0290, grad=0.0000), Var(v=-0.0522, grad=0.0000), Var(v=0.0082, grad=0.0000), Var(v=-0.1266, grad=0.0000), Var(v=-0.0163, grad=0.0000), Var(v=0.1306, grad=0.0000), Var(v=0.0683, grad=0.0000), Var(v=-0.0127, grad=0.0000), Var(v=0.0432, grad=0.0000), Var(v=-0.0102, grad=0.0000), Var(v=-0.0004, grad=0.0000), Var(v=-0.0412, grad=0.0000), Var(v=-0.1189, grad=0.0000), Var(v=-0.0457, grad=0.0000), Var(v=0.1095, grad=0.0000), Var(v=0.0263, grad=0.0000), Var(v=0.0419, grad=0.0000), Var(v=-0.1848, grad=0.0000), Var(v=-0.1569, grad=0.0000), Var(v=0.0114, grad=0.0000), Var(v=0.0010, grad=0.0000), Var(v=-0.0226, grad=0.0000), Var(v=0.0176, grad=0.0000), Var(v=-0.2135, grad=0.0000), Var(v=0.0197, grad=0.0000), Var(v=-0.0315, grad=0.0000), Var(v=0.0859, grad=0.0000), Var(v=-0.0539, grad=0.0000), Var(v=0.0337, grad=0.0000), Var(v=0.0698, grad=0.0000), Var(v=0.0323, grad=0.0000), Var(v=-0.1047, grad=0.0000), Var(v=-0.1485, grad=0.0000), Var(v=-0.0391, grad=0.0000), Var(v=-0.1097, grad=0.0000), Var(v=-0.1399, grad=0.0000), Var(v=0.0679, grad=0.0000), Var(v=-0.1166, grad=0.0000), Var(v=-0.0791, grad=0.0000), Var(v=0.0256, grad=0.0000)], [Var(v=0.1169, grad=0.0000), Var(v=-0.0341, grad=0.0000), Var(v=-0.0391, grad=0.0000), Var(v=-0.0672, grad=0.0000), Var(v=0.0045, grad=0.0000), Var(v=-0.0953, grad=0.0000), Var(v=-0.1496, grad=0.0000), Var(v=-0.0660, grad=0.0000), Var(v=-0.0251, grad=0.0000), Var(v=0.0392, grad=0.0000), Var(v=0.1110, grad=0.0000), Var(v=-0.0224, grad=0.0000), Var(v=-0.1842, grad=0.0000), Var(v=0.0541, grad=0.0000), Var(v=0.0535, grad=0.0000), Var(v=0.0109, grad=0.0000), Var(v=-0.1017, grad=0.0000), Var(v=-0.1113, grad=0.0000), Var(v=0.0935, grad=0.0000), Var(v=-0.1535, grad=0.0000), Var(v=-0.0896, grad=0.0000), Var(v=-0.0242, grad=0.0000), Var(v=-0.0033, grad=0.0000), Var(v=0.1433, grad=0.0000), Var(v=0.0078, grad=0.0000), Var(v=-0.1237, grad=0.0000), Var(v=-0.0642, grad=0.0000), Var(v=-0.2540, grad=0.0000), Var(v=0.0318, grad=0.0000), Var(v=0.1700, grad=0.0000), Var(v=-0.1364, grad=0.0000), Var(v=-0.1236, grad=0.0000), Var(v=-0.0815, grad=0.0000), Var(v=0.1008, grad=0.0000), Var(v=0.1029, grad=0.0000), Var(v=0.1111, grad=0.0000), Var(v=-0.0532, grad=0.0000), Var(v=-0.1234, grad=0.0000), Var(v=0.0212, grad=0.0000), Var(v=-0.1772, grad=0.0000), Var(v=-0.0130, grad=0.0000), Var(v=-0.0907, grad=0.0000), Var(v=-0.0431, grad=0.0000), Var(v=-0.0108, grad=0.0000), Var(v=0.0438, grad=0.0000), Var(v=0.0986, grad=0.0000), Var(v=-0.0341, grad=0.0000), Var(v=-0.2053, grad=0.0000), Var(v=-0.1517, grad=0.0000), Var(v=-0.0840, grad=0.0000)], [Var(v=-0.0020, grad=0.0000), Var(v=0.0768, grad=0.0000), Var(v=-0.0243, grad=0.0000), Var(v=-0.0588, grad=0.0000), Var(v=0.0696, grad=0.0000), Var(v=0.0686, grad=0.0000), Var(v=-0.1277, grad=0.0000), Var(v=0.0716, grad=0.0000), Var(v=-0.0287, grad=0.0000), Var(v=-0.1052, grad=0.0000), Var(v=0.1135, grad=0.0000), Var(v=-0.0047, grad=0.0000), Var(v=0.0273, grad=0.0000), Var(v=-0.0365, grad=0.0000), Var(v=0.0053, grad=0.0000), Var(v=-0.1667, grad=0.0000), Var(v=0.1176, grad=0.0000), Var(v=-0.0335, grad=0.0000), Var(v=0.1693, grad=0.0000), Var(v=-0.0202, grad=0.0000), Var(v=0.0437, grad=0.0000), Var(v=0.1573, grad=0.0000), Var(v=-0.1310, grad=0.0000), Var(v=0.0562, grad=0.0000), Var(v=0.0643, grad=0.0000), Var(v=-0.0874, grad=0.0000), Var(v=0.0797, grad=0.0000), Var(v=0.0515, grad=0.0000), Var(v=0.0789, grad=0.0000), Var(v=0.0663, grad=0.0000), Var(v=0.0288, grad=0.0000), Var(v=0.1265, grad=0.0000), Var(v=0.0754, grad=0.0000), Var(v=0.0311, grad=0.0000), Var(v=0.0300, grad=0.0000), Var(v=-0.0447, grad=0.0000), Var(v=-0.1682, grad=0.0000), Var(v=0.0658, grad=0.0000), Var(v=-0.2457, grad=0.0000), Var(v=0.1366, grad=0.0000), Var(v=0.1817, grad=0.0000), Var(v=0.0341, grad=0.0000), Var(v=0.1063, grad=0.0000), Var(v=0.0342, grad=0.0000), Var(v=-0.0006, grad=0.0000), Var(v=0.0169, grad=0.0000), Var(v=0.0996, grad=0.0000), Var(v=0.0754, grad=0.0000), Var(v=0.1797, grad=0.0000), Var(v=-0.1273, grad=0.0000)], [Var(v=0.0888, grad=0.0000), Var(v=0.1654, grad=0.0000), Var(v=0.0899, grad=0.0000), Var(v=-0.0292, grad=0.0000), Var(v=-0.0760, grad=0.0000), Var(v=-0.0901, grad=0.0000), Var(v=0.1953, grad=0.0000), Var(v=0.1039, grad=0.0000), Var(v=0.0283, grad=0.0000), Var(v=-0.0172, grad=0.0000), Var(v=-0.0875, grad=0.0000), Var(v=0.0325, grad=0.0000), Var(v=0.1274, grad=0.0000), Var(v=0.1592, grad=0.0000), Var(v=0.1724, grad=0.0000), Var(v=0.0588, grad=0.0000), Var(v=-0.0735, grad=0.0000), Var(v=-0.0349, grad=0.0000), Var(v=0.0010, grad=0.0000), Var(v=0.0179, grad=0.0000), Var(v=0.0440, grad=0.0000), Var(v=0.0411, grad=0.0000), Var(v=-0.1306, grad=0.0000), Var(v=-0.1414, grad=0.0000), Var(v=0.0501, grad=0.0000), Var(v=0.0330, grad=0.0000), Var(v=0.2265, grad=0.0000), Var(v=-0.0941, grad=0.0000), Var(v=0.0168, grad=0.0000), Var(v=-0.0968, grad=0.0000), Var(v=0.0017, grad=0.0000), Var(v=0.1139, grad=0.0000), Var(v=-0.1253, grad=0.0000), Var(v=-0.0921, grad=0.0000), Var(v=-0.0296, grad=0.0000), Var(v=-0.0134, grad=0.0000), Var(v=-0.0487, grad=0.0000), Var(v=0.0078, grad=0.0000), Var(v=-0.1439, grad=0.0000), Var(v=0.0763, grad=0.0000), Var(v=0.1128, grad=0.0000), Var(v=-0.0492, grad=0.0000), Var(v=0.0137, grad=0.0000), Var(v=0.0556, grad=0.0000), Var(v=-0.0022, grad=0.0000), Var(v=-0.1002, grad=0.0000), Var(v=-0.1189, grad=0.0000), Var(v=-0.0445, grad=0.0000), Var(v=-0.0328, grad=0.0000), Var(v=0.1496, grad=0.0000)], [Var(v=0.0149, grad=0.0000), Var(v=0.1287, grad=0.0000), Var(v=0.1393, grad=0.0000), Var(v=0.0823, grad=0.0000), Var(v=-0.1435, grad=0.0000), Var(v=0.1072, grad=0.0000), Var(v=0.0501, grad=0.0000), Var(v=0.1295, grad=0.0000), Var(v=-0.1065, grad=0.0000), Var(v=-0.1260, grad=0.0000), Var(v=-0.0308, grad=0.0000), Var(v=-0.1700, grad=0.0000), Var(v=-0.1077, grad=0.0000), Var(v=0.0359, grad=0.0000), Var(v=-0.0222, grad=0.0000), Var(v=0.0026, grad=0.0000), Var(v=-0.0614, grad=0.0000), Var(v=-0.0620, grad=0.0000), Var(v=0.1003, grad=0.0000), Var(v=0.0890, grad=0.0000), Var(v=0.1275, grad=0.0000), Var(v=0.0705, grad=0.0000), Var(v=0.1178, grad=0.0000), Var(v=0.0490, grad=0.0000), Var(v=0.0884, grad=0.0000), Var(v=-0.1013, grad=0.0000), Var(v=-0.0718, grad=0.0000), Var(v=0.1672, grad=0.0000), Var(v=-0.0326, grad=0.0000), Var(v=-0.0986, grad=0.0000), Var(v=0.0367, grad=0.0000), Var(v=0.0517, grad=0.0000), Var(v=0.1424, grad=0.0000), Var(v=0.0875, grad=0.0000), Var(v=0.1395, grad=0.0000), Var(v=0.0096, grad=0.0000), Var(v=-0.0063, grad=0.0000), Var(v=0.0784, grad=0.0000), Var(v=0.0481, grad=0.0000), Var(v=-0.0145, grad=0.0000), Var(v=-0.0646, grad=0.0000), Var(v=0.0367, grad=0.0000), Var(v=-0.1281, grad=0.0000), Var(v=-0.0438, grad=0.0000), Var(v=-0.0177, grad=0.0000), Var(v=0.0766, grad=0.0000), Var(v=-0.0548, grad=0.0000), Var(v=0.0390, grad=0.0000), Var(v=0.0662, grad=0.0000), Var(v=-0.0410, grad=0.0000)], [Var(v=-0.1354, grad=0.0000), Var(v=0.1141, grad=0.0000), Var(v=-0.1022, grad=0.0000), Var(v=0.0015, grad=0.0000), Var(v=0.1044, grad=0.0000), Var(v=-0.0091, grad=0.0000), Var(v=0.0294, grad=0.0000), Var(v=0.0614, grad=0.0000), Var(v=-0.0681, grad=0.0000), Var(v=-0.0970, grad=0.0000), Var(v=0.0836, grad=0.0000), Var(v=-0.0246, grad=0.0000), Var(v=0.0691, grad=0.0000), Var(v=-0.0265, grad=0.0000), Var(v=-0.0861, grad=0.0000), Var(v=-0.0263, grad=0.0000), Var(v=-0.0344, grad=0.0000), Var(v=0.0546, grad=0.0000), Var(v=0.1100, grad=0.0000), Var(v=0.0500, grad=0.0000), Var(v=0.1762, grad=0.0000), Var(v=0.0084, grad=0.0000), Var(v=0.1150, grad=0.0000), Var(v=-0.0390, grad=0.0000), Var(v=0.0071, grad=0.0000), Var(v=-0.0763, grad=0.0000), Var(v=-0.1459, grad=0.0000), Var(v=-0.0594, grad=0.0000), Var(v=0.0919, grad=0.0000), Var(v=-0.0386, grad=0.0000), Var(v=0.1659, grad=0.0000), Var(v=-0.0911, grad=0.0000), Var(v=-0.0408, grad=0.0000), Var(v=0.0603, grad=0.0000), Var(v=0.2179, grad=0.0000), Var(v=-0.0123, grad=0.0000), Var(v=-0.0613, grad=0.0000), Var(v=-0.0493, grad=0.0000), Var(v=-0.0335, grad=0.0000), Var(v=0.2212, grad=0.0000), Var(v=0.0284, grad=0.0000), Var(v=0.0131, grad=0.0000), Var(v=-0.0138, grad=0.0000), Var(v=-0.0396, grad=0.0000), Var(v=0.1169, grad=0.0000), Var(v=-0.0524, grad=0.0000), Var(v=-0.0321, grad=0.0000), Var(v=-0.1978, grad=0.0000), Var(v=0.0639, grad=0.0000), Var(v=0.0395, grad=0.0000)], [Var(v=0.1392, grad=0.0000), Var(v=0.0147, grad=0.0000), Var(v=0.0527, grad=0.0000), Var(v=0.0347, grad=0.0000), Var(v=-0.0087, grad=0.0000), Var(v=0.2037, grad=0.0000), Var(v=-0.0980, grad=0.0000), Var(v=-0.0765, grad=0.0000), Var(v=-0.0783, grad=0.0000), Var(v=0.0460, grad=0.0000), Var(v=-0.1008, grad=0.0000), Var(v=0.0654, grad=0.0000), Var(v=0.0341, grad=0.0000), Var(v=-0.0694, grad=0.0000), Var(v=0.0281, grad=0.0000), Var(v=0.0140, grad=0.0000), Var(v=0.1113, grad=0.0000), Var(v=-0.0838, grad=0.0000), Var(v=0.0616, grad=0.0000), Var(v=0.1149, grad=0.0000), Var(v=-0.1113, grad=0.0000), Var(v=0.1274, grad=0.0000), Var(v=0.2023, grad=0.0000), Var(v=0.2356, grad=0.0000), Var(v=-0.1348, grad=0.0000), Var(v=-0.0774, grad=0.0000), Var(v=-0.0799, grad=0.0000), Var(v=-0.0045, grad=0.0000), Var(v=-0.0026, grad=0.0000), Var(v=-0.0507, grad=0.0000), Var(v=0.0824, grad=0.0000), Var(v=-0.0330, grad=0.0000), Var(v=0.0652, grad=0.0000), Var(v=0.0660, grad=0.0000), Var(v=0.0159, grad=0.0000), Var(v=0.0289, grad=0.0000), Var(v=-0.0176, grad=0.0000), Var(v=0.0199, grad=0.0000), Var(v=-0.1727, grad=0.0000), Var(v=-0.0558, grad=0.0000), Var(v=-0.0482, grad=0.0000), Var(v=-0.0463, grad=0.0000), Var(v=0.0430, grad=0.0000), Var(v=-0.1528, grad=0.0000), Var(v=0.1527, grad=0.0000), Var(v=-0.0609, grad=0.0000), Var(v=0.2921, grad=0.0000), Var(v=0.1053, grad=0.0000), Var(v=-0.0722, grad=0.0000), Var(v=0.0934, grad=0.0000)], [Var(v=-0.0338, grad=0.0000), Var(v=-0.0379, grad=0.0000), Var(v=0.0721, grad=0.0000), Var(v=-0.0531, grad=0.0000), Var(v=-0.1879, grad=0.0000), Var(v=-0.0322, grad=0.0000), Var(v=-0.1353, grad=0.0000), Var(v=-0.0317, grad=0.0000), Var(v=-0.0482, grad=0.0000), Var(v=-0.1473, grad=0.0000), Var(v=0.0467, grad=0.0000), Var(v=-0.0067, grad=0.0000), Var(v=-0.0951, grad=0.0000), Var(v=0.0649, grad=0.0000), Var(v=-0.0981, grad=0.0000), Var(v=0.0684, grad=0.0000), Var(v=0.0423, grad=0.0000), Var(v=0.0004, grad=0.0000), Var(v=0.0950, grad=0.0000), Var(v=0.1032, grad=0.0000), Var(v=-0.0006, grad=0.0000), Var(v=0.0205, grad=0.0000), Var(v=0.1553, grad=0.0000), Var(v=0.0547, grad=0.0000), Var(v=-0.1066, grad=0.0000), Var(v=-0.0084, grad=0.0000), Var(v=-0.0420, grad=0.0000), Var(v=-0.0238, grad=0.0000), Var(v=0.0320, grad=0.0000), Var(v=-0.0557, grad=0.0000), Var(v=-0.0532, grad=0.0000), Var(v=-0.0738, grad=0.0000), Var(v=0.0025, grad=0.0000), Var(v=-0.2228, grad=0.0000), Var(v=-0.0031, grad=0.0000), Var(v=-0.1086, grad=0.0000), Var(v=-0.0132, grad=0.0000), Var(v=-0.0307, grad=0.0000), Var(v=-0.0661, grad=0.0000), Var(v=-0.0138, grad=0.0000), Var(v=-0.1111, grad=0.0000), Var(v=0.1116, grad=0.0000), Var(v=0.0681, grad=0.0000), Var(v=0.0929, grad=0.0000), Var(v=-0.0561, grad=0.0000), Var(v=0.1358, grad=0.0000), Var(v=0.0185, grad=0.0000), Var(v=-0.0489, grad=0.0000), Var(v=-0.2566, grad=0.0000), Var(v=0.0841, grad=0.0000)], [Var(v=-0.1779, grad=0.0000), Var(v=-0.0165, grad=0.0000), Var(v=-0.2587, grad=0.0000), Var(v=-0.0677, grad=0.0000), Var(v=0.1192, grad=0.0000), Var(v=-0.0354, grad=0.0000), Var(v=0.2020, grad=0.0000), Var(v=0.0203, grad=0.0000), Var(v=0.0157, grad=0.0000), Var(v=0.0703, grad=0.0000), Var(v=0.1376, grad=0.0000), Var(v=-0.1757, grad=0.0000), Var(v=0.1539, grad=0.0000), Var(v=0.0441, grad=0.0000), Var(v=-0.1769, grad=0.0000), Var(v=0.1035, grad=0.0000), Var(v=0.0727, grad=0.0000), Var(v=-0.1691, grad=0.0000), Var(v=-0.0218, grad=0.0000), Var(v=0.0237, grad=0.0000), Var(v=-0.1228, grad=0.0000), Var(v=0.1546, grad=0.0000), Var(v=0.1120, grad=0.0000), Var(v=0.0593, grad=0.0000), Var(v=-0.0672, grad=0.0000), Var(v=0.0003, grad=0.0000), Var(v=0.1232, grad=0.0000), Var(v=-0.0587, grad=0.0000), Var(v=0.1417, grad=0.0000), Var(v=0.0460, grad=0.0000), Var(v=0.0754, grad=0.0000), Var(v=-0.1211, grad=0.0000), Var(v=0.1331, grad=0.0000), Var(v=-0.0207, grad=0.0000), Var(v=-0.1398, grad=0.0000), Var(v=-0.0159, grad=0.0000), Var(v=0.1367, grad=0.0000), Var(v=-0.1425, grad=0.0000), Var(v=0.0618, grad=0.0000), Var(v=-0.0076, grad=0.0000), Var(v=0.0857, grad=0.0000), Var(v=0.0484, grad=0.0000), Var(v=-0.0889, grad=0.0000), Var(v=-0.0125, grad=0.0000), Var(v=0.0166, grad=0.0000), Var(v=-0.0322, grad=0.0000), Var(v=-0.0404, grad=0.0000), Var(v=-0.1002, grad=0.0000), Var(v=-0.1758, grad=0.0000), Var(v=-0.0777, grad=0.0000)], [Var(v=-0.0038, grad=0.0000), Var(v=0.0754, grad=0.0000), Var(v=-0.1233, grad=0.0000), Var(v=0.0956, grad=0.0000), Var(v=-0.0560, grad=0.0000), Var(v=-0.0334, grad=0.0000), Var(v=-0.0589, grad=0.0000), Var(v=0.0432, grad=0.0000), Var(v=-0.0700, grad=0.0000), Var(v=-0.1383, grad=0.0000), Var(v=0.0764, grad=0.0000), Var(v=-0.0161, grad=0.0000), Var(v=-0.0558, grad=0.0000), Var(v=0.0154, grad=0.0000), Var(v=0.0685, grad=0.0000), Var(v=0.0356, grad=0.0000), Var(v=0.0175, grad=0.0000), Var(v=-0.1549, grad=0.0000), Var(v=0.1781, grad=0.0000), Var(v=0.0110, grad=0.0000), Var(v=0.0272, grad=0.0000), Var(v=-0.1037, grad=0.0000), Var(v=0.0006, grad=0.0000), Var(v=0.0849, grad=0.0000), Var(v=-0.0616, grad=0.0000), Var(v=0.0446, grad=0.0000), Var(v=0.0398, grad=0.0000), Var(v=0.0067, grad=0.0000), Var(v=0.0715, grad=0.0000), Var(v=-0.0221, grad=0.0000), Var(v=0.0578, grad=0.0000), Var(v=-0.0868, grad=0.0000), Var(v=-0.2501, grad=0.0000), Var(v=-0.0620, grad=0.0000), Var(v=0.0310, grad=0.0000), Var(v=0.0557, grad=0.0000), Var(v=0.0794, grad=0.0000), Var(v=-0.0089, grad=0.0000), Var(v=0.1534, grad=0.0000), Var(v=0.0044, grad=0.0000), Var(v=0.2140, grad=0.0000), Var(v=-0.0106, grad=0.0000), Var(v=-0.2502, grad=0.0000), Var(v=0.0865, grad=0.0000), Var(v=0.1146, grad=0.0000), Var(v=0.2186, grad=0.0000), Var(v=-0.1205, grad=0.0000), Var(v=-0.0315, grad=0.0000), Var(v=-0.0850, grad=0.0000), Var(v=-0.1100, grad=0.0000)], [Var(v=-0.0149, grad=0.0000), Var(v=-0.0293, grad=0.0000), Var(v=0.0177, grad=0.0000), Var(v=-0.1374, grad=0.0000), Var(v=0.0153, grad=0.0000), Var(v=-0.0638, grad=0.0000), Var(v=-0.0156, grad=0.0000), Var(v=0.0498, grad=0.0000), Var(v=-0.1377, grad=0.0000), Var(v=0.1218, grad=0.0000), Var(v=-0.0236, grad=0.0000), Var(v=-0.0115, grad=0.0000), Var(v=0.0474, grad=0.0000), Var(v=-0.0258, grad=0.0000), Var(v=-0.0233, grad=0.0000), Var(v=0.2529, grad=0.0000), Var(v=-0.0211, grad=0.0000), Var(v=0.0785, grad=0.0000), Var(v=0.0392, grad=0.0000), Var(v=0.1730, grad=0.0000), Var(v=-0.1368, grad=0.0000), Var(v=-0.0942, grad=0.0000), Var(v=-0.1854, grad=0.0000), Var(v=-0.1295, grad=0.0000), Var(v=-0.1164, grad=0.0000), Var(v=0.0898, grad=0.0000), Var(v=-0.0467, grad=0.0000), Var(v=-0.0499, grad=0.0000), Var(v=0.0444, grad=0.0000), Var(v=-0.0053, grad=0.0000), Var(v=0.1920, grad=0.0000), Var(v=-0.1139, grad=0.0000), Var(v=-0.2680, grad=0.0000), Var(v=0.0032, grad=0.0000), Var(v=0.2661, grad=0.0000), Var(v=-0.0268, grad=0.0000), Var(v=0.0218, grad=0.0000), Var(v=-0.0427, grad=0.0000), Var(v=0.2412, grad=0.0000), Var(v=-0.2072, grad=0.0000), Var(v=0.0402, grad=0.0000), Var(v=-0.0859, grad=0.0000), Var(v=-0.0545, grad=0.0000), Var(v=0.0541, grad=0.0000), Var(v=0.1030, grad=0.0000), Var(v=-0.0275, grad=0.0000), Var(v=-0.0598, grad=0.0000), Var(v=-0.0279, grad=0.0000), Var(v=-0.0863, grad=0.0000), Var(v=0.0950, grad=0.0000)]] Biases: [Var(v=3.1119, grad=0.0000), Var(v=0.0000, grad=0.0000), Var(v=0.0000, grad=0.0000), Var(v=0.0000, grad=0.0000), Var(v=0.0000, grad=0.0000), Var(v=0.0000, grad=0.0000), Var(v=0.0000, grad=0.0000), Var(v=0.0000, grad=0.0000), Var(v=0.0000, grad=0.0000), Var(v=0.0000, grad=0.0000), Var(v=0.0000, grad=0.0000), Var(v=0.0000, grad=0.0000), Var(v=0.0000, grad=0.0000), Var(v=0.0000, grad=0.0000), Var(v=0.0000, grad=0.0000), Var(v=0.0000, grad=0.0000), Var(v=0.0000, grad=0.0000), Var(v=0.0000, grad=0.0000), Var(v=0.0000, grad=0.0000), Var(v=0.0000, grad=0.0000), Var(v=0.0000, grad=0.0000), Var(v=0.0000, grad=0.0000), Var(v=0.0000, grad=0.0000), Var(v=0.0000, grad=0.0000), Var(v=0.0000, grad=0.0000), Var(v=0.0000, grad=0.0000), Var(v=0.0000, grad=0.0000), Var(v=0.0000, grad=0.0000), Var(v=0.0000, grad=0.0000), Var(v=0.0000, grad=0.0000), Var(v=0.0000, grad=0.0000), Var(v=0.0000, grad=0.0000), Var(v=0.0000, grad=0.0000), Var(v=0.0000, grad=0.0000), Var(v=0.0000, grad=0.0000), Var(v=0.0000, grad=0.0000), Var(v=0.0000, grad=0.0000), Var(v=0.0000, grad=0.0000), Var(v=0.0000, grad=0.0000), Var(v=0.0000, grad=0.0000), Var(v=0.0000, grad=0.0000), Var(v=0.0000, grad=0.0000), Var(v=0.0000, grad=0.0000), Var(v=0.0000, grad=0.0000), Var(v=0.0000, grad=0.0000), Var(v=0.0000, grad=0.0000), Var(v=0.0000, grad=0.0000), Var(v=0.0000, grad=0.0000), Var(v=0.0000, grad=0.0000), Var(v=0.0000, grad=0.0000)]\n",
      "Layer 2 \n",
      " Weights: [[Var(v=-1.0693, grad=0.0000)], [Var(v=0.1573, grad=0.0000)], [Var(v=0.0872, grad=0.0000)], [Var(v=-0.3458, grad=0.0000)], [Var(v=0.0767, grad=0.0000)], [Var(v=-0.2091, grad=0.0000)], [Var(v=0.0463, grad=0.0000)], [Var(v=0.0282, grad=0.0000)], [Var(v=-0.0155, grad=0.0000)], [Var(v=-0.0268, grad=0.0000)], [Var(v=0.0291, grad=0.0000)], [Var(v=0.0518, grad=0.0000)], [Var(v=-0.0448, grad=0.0000)], [Var(v=0.0370, grad=0.0000)], [Var(v=0.0362, grad=0.0000)], [Var(v=-0.1648, grad=0.0000)], [Var(v=0.0425, grad=0.0000)], [Var(v=0.1210, grad=0.0000)], [Var(v=0.0788, grad=0.0000)], [Var(v=0.1317, grad=0.0000)], [Var(v=0.0123, grad=0.0000)], [Var(v=-0.0326, grad=0.0000)], [Var(v=-0.0017, grad=0.0000)], [Var(v=-0.1932, grad=0.0000)], [Var(v=0.0281, grad=0.0000)], [Var(v=0.0025, grad=0.0000)], [Var(v=-0.1259, grad=0.0000)], [Var(v=0.1825, grad=0.0000)], [Var(v=-0.0706, grad=0.0000)], [Var(v=-0.0011, grad=0.0000)], [Var(v=-0.2649, grad=0.0000)], [Var(v=-0.0345, grad=0.0000)], [Var(v=-0.0274, grad=0.0000)], [Var(v=0.0645, grad=0.0000)], [Var(v=-0.0250, grad=0.0000)], [Var(v=0.1111, grad=0.0000)], [Var(v=0.0702, grad=0.0000)], [Var(v=-0.0701, grad=0.0000)], [Var(v=0.0697, grad=0.0000)], [Var(v=0.1154, grad=0.0000)], [Var(v=-0.0502, grad=0.0000)], [Var(v=-0.0724, grad=0.0000)], [Var(v=0.0371, grad=0.0000)], [Var(v=-0.0645, grad=0.0000)], [Var(v=0.0536, grad=0.0000)], [Var(v=0.1220, grad=0.0000)], [Var(v=0.1639, grad=0.0000)], [Var(v=0.0327, grad=0.0000)], [Var(v=-0.1829, grad=0.0000)], [Var(v=-0.0571, grad=0.0000)]] Biases: [Var(v=0.0781, grad=0.0000)]\n"
     ]
    },
    {
     "data": {
      "text/plain": [
       "[None, None, None]"
      ]
     },
     "execution_count": 53,
     "metadata": {},
     "output_type": "execute_result"
    }
   ],
   "source": [
    "print('Network before update:')\n",
    "[print('Layer', i, '\\n', NN[i]) for i in range(len(NN))] \n",
    "\n",
    "def parameters(network):\n",
    "  params = []\n",
    "  for layer in range(len(network)):\n",
    "    params += network[layer].parameters()\n",
    "  return params\n",
    "\n",
    "def update_parameters(params, learning_rate=0.01):\n",
    "  for p in params:\n",
    "    p.v -= learning_rate*p.grad\n",
    "\n",
    "def zero_gradients(params):\n",
    "  for p in params:\n",
    "    p.grad = 0.0\n",
    "\n",
    "update_parameters(parameters(NN))\n",
    "\n",
    "print('\\nNetwork after update:')\n",
    "[print('Layer', i, '\\n', NN[i]) for i in range(len(NN))] \n",
    "\n",
    "zero_gradients(parameters(NN))\n",
    "\n",
    "print('\\nNetwork after zeroing gradients:')\n",
    "[print('Layer', i, '\\n', NN[i]) for i in range(len(NN))] "
   ]
  },
  {
   "cell_type": "code",
   "execution_count": 60,
   "metadata": {
    "id": "woWYpdw6FtIO"
   },
   "outputs": [],
   "source": [
    "# Initialize an arbitrary neural network\n",
    "NN = [\n",
    "    DenseLayer(1, 8, lambda x: x.relu()),\n",
    "    DenseLayer(8, 1, lambda x: x.identity())\n",
    "]\n",
    "\n",
    "# Recommended hyper-parameters for 3-D: \n",
    "#NN = [\n",
    "#    DenseLayer(3, 16, lambda x: x.relu()),\n",
    "#    DenseLayer(16, 1, lambda x: x.identity())\n",
    "#]\n",
    "\n",
    "\n",
    "### Notice that, when we switch from tanh to relu activation, we decrease the learning rate. This is due the stability of the gradients \n",
    "## of the activation functions."
   ]
  },
  {
   "cell_type": "code",
   "execution_count": 61,
   "metadata": {
    "id": "mdqaqYBVFtIR"
   },
   "outputs": [],
   "source": [
    "# Initialize training hyperparameters\n",
    "EPOCHS = 200\n",
    "LEARN_R = 2e-3 "
   ]
  },
  {
   "cell_type": "code",
   "execution_count": 62,
   "metadata": {
    "colab": {
     "base_uri": "https://localhost:8080/"
    },
    "id": "5kfg76GMFtIW",
    "outputId": "e30cf68a-31f2-42b4-cc5e-860c297c0f04",
    "scrolled": true
   },
   "outputs": [
    {
     "name": "stdout",
     "output_type": "stream",
     "text": [
      "   0 ( 0.00%) Train loss: 106.635 \t Validation loss: 134.846\n",
      "  10 ( 5.00%) Train loss: 105.005 \t Validation loss: 148.516\n",
      "  20 (10.00%) Train loss: 105.000 \t Validation loss: 148.670\n",
      "  30 (15.00%) Train loss: 105.000 \t Validation loss: 148.670\n",
      "  40 (20.00%) Train loss: 105.000 \t Validation loss: 148.670\n",
      "  50 (25.00%) Train loss: 105.000 \t Validation loss: 148.670\n",
      "  60 (30.00%) Train loss: 105.000 \t Validation loss: 148.670\n",
      "  70 (35.00%) Train loss: 105.000 \t Validation loss: 148.670\n",
      "  80 (40.00%) Train loss: 105.000 \t Validation loss: 148.670\n",
      "  90 (45.00%) Train loss: 105.000 \t Validation loss: 148.670\n",
      " 100 (50.00%) Train loss: 105.000 \t Validation loss: 148.670\n",
      " 110 (55.00%) Train loss: 105.000 \t Validation loss: 148.670\n",
      " 120 (60.00%) Train loss: 105.000 \t Validation loss: 148.670\n",
      " 130 (65.00%) Train loss: 105.000 \t Validation loss: 148.670\n",
      " 140 (70.00%) Train loss: 105.000 \t Validation loss: 148.670\n",
      " 150 (75.00%) Train loss: 105.000 \t Validation loss: 148.670\n",
      " 160 (80.00%) Train loss: 105.000 \t Validation loss: 148.670\n",
      " 170 (85.00%) Train loss: 105.000 \t Validation loss: 148.670\n",
      " 180 (90.00%) Train loss: 105.000 \t Validation loss: 148.670\n",
      " 190 (95.00%) Train loss: 105.000 \t Validation loss: 148.670\n"
     ]
    }
   ],
   "source": [
    "train_loss = []\n",
    "val_loss = []\n",
    "\n",
    "for e in range(EPOCHS):\n",
    "     \n",
    "    # Forward pass and loss computation\n",
    "    Loss = squared_loss(y_train, forward(x_train, NN))\n",
    "\n",
    "    # Backward pass\n",
    "    Loss.backward()\n",
    "    \n",
    "    # gradient descent update\n",
    "    update_parameters(parameters(NN), LEARN_R)\n",
    "    zero_gradients(parameters(NN))\n",
    "    \n",
    "    # Training loss\n",
    "    train_loss.append(Loss.v)\n",
    "    \n",
    "    # Validation\n",
    "    Loss_validation = squared_loss(y_validation, forward(x_validation, NN))\n",
    "    val_loss.append(Loss_validation.v)\n",
    "    \n",
    "    if e%10==0:\n",
    "        print(\"{:4d}\".format(e),\n",
    "              \"({:5.2f}%)\".format(e/EPOCHS*100), \n",
    "              \"Train loss: {:4.3f} \\t Validation loss: {:4.3f}\".format(train_loss[-1], val_loss[-1]))\n",
    "        \n"
   ]
  },
  {
   "cell_type": "code",
   "execution_count": 63,
   "metadata": {
    "colab": {
     "base_uri": "https://localhost:8080/",
     "height": 265
    },
    "id": "VetyRWFwFtIY",
    "outputId": "344e490d-6d7d-455a-fa6f-88dd11eb957e"
   },
   "outputs": [
    {
     "data": {
      "image/png": "[encoded data removed]",
      "text/plain": [
       "<Figure size 432x288 with 1 Axes>"
      ]
     },
     "metadata": {
      "needs_background": "light"
     },
     "output_type": "display_data"
    }
   ],
   "source": [
    "plt.plot(range(len(train_loss)), train_loss);\n",
    "plt.plot(range(len(val_loss)), val_loss);"
   ]
  },
  {
   "cell_type": "markdown",
   "metadata": {
    "id": "8OgmIrM9FtIb"
   },
   "source": [
    "# Testing\n",
    "\n",
    "We have kept the calculation of the test error separate in order to emphasize that you should not use the test set in optimization."
   ]
  },
  {
   "cell_type": "code",
   "execution_count": 64,
   "metadata": {
    "id": "HmNi7S-vFtIc"
   },
   "outputs": [],
   "source": [
    "output_test = forward(x_test, NN)"
   ]
  },
  {
   "cell_type": "code",
   "execution_count": 65,
   "metadata": {
    "colab": {
     "base_uri": "https://localhost:8080/",
     "height": 316
    },
    "id": "7mmJOTSEFtIf",
    "outputId": "e3264095-cefe-4aee-893d-bf152438e332"
   },
   "outputs": [
    {
     "name": "stdout",
     "output_type": "stream",
     "text": [
      "Test loss:  107.202\n"
     ]
    },
    {
     "data": {
      "image/png": "[encoded data removed]",
      "text/plain": [
       "<Figure size 432x288 with 1 Axes>"
      ]
     },
     "metadata": {
      "needs_background": "light"
     },
     "output_type": "display_data"
    }
   ],
   "source": [
    "y_test_np = Var_to_nparray(y_test)\n",
    "plt.scatter(y_test_np, Var_to_nparray(output_test));\n",
    "plt.plot([np.min(y_test_np), np.max(y_test_np)], [np.min(y_test_np), np.max(y_test_np)], color='k');\n",
    "plt.xlabel(\"y\");\n",
    "plt.ylabel(\"$\\hat{y}$\");\n",
    "plt.title(\"Model prediction vs real in the test set, the close to the line the better\")\n",
    "plt.grid(True);\n",
    "plt.axis('equal');\n",
    "plt.tight_layout();\n",
    "\n",
    "Loss_test = squared_loss(y_test, forward(x_test, NN))\n",
    "\n",
    "print(\"Test loss:  {:4.3f}\".format(Loss_test.v))"
   ]
  },
  {
   "cell_type": "code",
   "execution_count": 66,
   "metadata": {
    "colab": {
     "base_uri": "https://localhost:8080/",
     "height": 279
    },
    "id": "ODi0WlmQFtIh",
    "outputId": "d1ab874f-0717-4987-87bf-1f0c7c8e7148"
   },
   "outputs": [
    {
     "data": {
      "image/png": "[encoded data removed]",
      "text/plain": [
       "<Figure size 432x288 with 1 Axes>"
      ]
     },
     "metadata": {
      "needs_background": "light"
     },
     "output_type": "display_data"
    }
   ],
   "source": [
    "x_test_np = Var_to_nparray(x_test)\n",
    "x_train_np = Var_to_nparray(x_train)\n",
    "y_train_np = Var_to_nparray(y_train)\n",
    "if D1:\n",
    "    plt.scatter(x_train_np, y_train_np, label=\"train data\");\n",
    "    plt.scatter(x_test_np, Var_to_nparray(output_test), label=\"test prediction\");\n",
    "    plt.scatter(x_test_np, y_test_np, label=\"test data\");\n",
    "    plt.legend();\n",
    "    plt.xlabel(\"x\");\n",
    "    plt.ylabel(\"y\");\n",
    "else:\n",
    "    plt.scatter(x_train_np[:,1], y_train, label=\"train data\");\n",
    "    plt.scatter(x_test_np[:,1], Var_to_nparray(output_test), label=\"test data prediction\");\n",
    "    plt.scatter(x_test_np[:,1], y_test_np, label=\"test data\");\n",
    "    plt.legend();\n",
    "    plt.xlabel(\"x\");\n",
    "    plt.ylabel(\"y\");"
   ]
  },
  {
   "cell_type": "markdown",
   "metadata": {
    "id": "zTBAmjsAFtIk"
   },
   "source": [
    "## Exercise k) Show overfitting, underfitting and just right fitting\n",
    "\n",
    "Vary the architecture and other things to show clear signs of overfitting (=training loss significantly lower than test loss) and underfitting (=not fitting enoung to training data so that test performance is also hurt).\n",
    "\n",
    "See also if you can get a good compromise which leads to a low validation loss. \n",
    "\n",
    "For this problem do you see any big difference between validation and test loss? The answer here will probably be no. Discuss cases where it is important to keep the two separate.\n",
    "\n",
    "_Insert written answer here._\n"
   ]
  },
  {
   "cell_type": "markdown",
   "metadata": {},
   "source": [
    "**Solution**\n",
    "\n",
    "-  Underfit\n",
    "A clear example of underfitting is running the previous example for 5 epochs. The amount of epochs is not enough for the network to learn.\n",
    "\n",
    "- Right fit\n",
    "At the 20 epoch mark we see that train and validation errors have stabilized. At that point we have the right fit. \n",
    "\n",
    "- Overfit\n",
    "Overfit is observed when the model has good performance on training data but performs poorly on test data. An example would be a complex model that after a good number of epochs(>20) the training error would go down, while the test/validation error would rise."
   ]
  },
  {
   "cell_type": "markdown",
   "metadata": {
    "id": "fYPZP-eTFtIo"
   },
   "source": [
    "# Next steps - classification\n",
    "\n",
    "It is straight forward to extend what we have done to classification. \n",
    "\n",
    "For numerical stability it is better to make softmax and cross-entropy as one function so we write the cross entropy loss as a function of the logits we talked about last week. \n",
    "\n",
    "Next week we will see how to perform classification in PyTorch."
   ]
  },
  {
   "cell_type": "markdown",
   "metadata": {
    "id": "qsVPul3QFtIo"
   },
   "source": [
    "## Exercise l) optional - Implement backpropagation for classification\n",
    "\n",
    "Should be possible with very few lines of code. :-)"
   ]
  },
  {
   "cell_type": "code",
   "execution_count": null,
   "metadata": {
    "id": "oC8QrI2tFtIp"
   },
   "outputs": [],
   "source": [
    "# Just add code."
   ]
  },
  {
   "cell_type": "markdown",
   "metadata": {
    "id": "APqhJv3tta1O"
   },
   "source": [
    "## Exercise m) optional - Introduce a NeuralNetwork class\n",
    "\n",
    "The functions we applied on the neural network (parameters, update_parameters and zero_gradients) can more naturally be included as methods in a NeuralNetwork class. Make such a class and modify the code to use it. "
   ]
  },
  {
   "cell_type": "code",
   "execution_count": null,
   "metadata": {
    "id": "Dqfnor1ouMLq"
   },
   "outputs": [],
   "source": [
    "# just add some code"
   ]
  }
 ],
 "metadata": {
  "anaconda-cloud": {},
  "colab": {
   "collapsed_sections": [
    "U4057_ljNvWB",
    "p_8n_SKnIW2F",
    "oLrGJytZFtGm",
    "jpIZPBpNI0pO",
    "_79HOAXrFtHK",
    "mqeyab9qFtGs",
    "-XyXBD37FtHk",
    "SrwSJ2UWFtHu",
    "zTBAmjsAFtIk",
    "qsVPul3QFtIo",
    "APqhJv3tta1O"
   ],
   "name": "2.1-EXE-FNN-AutoDif-Nanograd.ipynb",
   "provenance": []
  },
  "kernelspec": {
   "display_name": "Python 3.9.12 64-bit",
   "language": "python",
   "name": "python3"
  },
  "language_info": {
   "codemirror_mode": {
    "name": "ipython",
    "version": 3
   },
   "file_extension": ".py",
   "mimetype": "text/x-python",
   "name": "python",
   "nbconvert_exporter": "python",
   "pygments_lexer": "ipython3",
   "version": "3.9.12"
  },
  "vscode": {
   "interpreter": {
    "hash": "65f4aab08c62330dab9a6da6865afb8d3706c114778798997f6b2f9c40d9bc3b"
   }
  }
 },
 "nbformat": 4,
 "nbformat_minor": 1
}
